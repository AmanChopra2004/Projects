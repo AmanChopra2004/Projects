{
  "cells": [
    {
      "cell_type": "markdown",
      "metadata": {
        "id": "FrL2j4C7bfRs"
      },
      "source": [
        "### Installing basic liberaries"
      ]
    },
    {
      "cell_type": "code",
      "execution_count": null,
      "metadata": {
        "collapsed": true,
        "id": "8q7fdzjOTglh"
      },
      "outputs": [],
      "source": [
        "%pip install --upgrade --quiet langchain langchain-community langchain-groq langchain-experimental neo4j wikipedia tiktoken yfiles_jupyter_graphs sentence-transformers\n"
      ]
    },
    {
      "cell_type": "code",
      "execution_count": null,
      "metadata": {
        "id": "J9mK-kTtTgYI"
      },
      "outputs": [],
      "source": [
        "from langchain_community.graphs import Neo4jGraph"
      ]
    },
    {
      "cell_type": "code",
      "execution_count": null,
      "metadata": {
        "id": "mGqOeDVuTgjA"
      },
      "outputs": [],
      "source": [
        "from langchain_core.runnables import (\n",
        "    RunnableBranch,\n",
        "    RunnableLambda,\n",
        "    RunnableParallel,\n",
        "    RunnablePassthrough,\n",
        ")\n",
        "from langchain_core.prompts import ChatPromptTemplate\n",
        "from langchain_core.prompts.prompt import PromptTemplate\n",
        "from langchain_core.messages import AIMessage, HumanMessage\n",
        "from langchain_core.output_parsers import StrOutputParser\n",
        "from langchain_core.runnables import ConfigurableField\n"
      ]
    },
    {
      "cell_type": "code",
      "execution_count": null,
      "metadata": {
        "id": "YHsKGNQcUNtf"
      },
      "outputs": [],
      "source": [
        "# Graph and database imports\n",
        "from yfiles_jupyter_graphs import GraphWidget\n",
        "from neo4j import GraphDatabase\n",
        "from langchain_community.graphs import Neo4jGraph\n",
        "import os\n"
      ]
    },
    {
      "cell_type": "markdown",
      "metadata": {
        "id": "ikcOdO8OU2ss"
      },
      "source": [
        "### Environment Setup"
      ]
    },
    {
      "cell_type": "code",
      "execution_count": null,
      "metadata": {
        "id": "kiorJHLKTggY"
      },
      "outputs": [],
      "source": [
        "NEO4J_URI=\"NEO4J_URI\"\n",
        "NEO4J_USERNAME=\"NEO4J_USERNAME\"\n",
        "NEO4J_PASSWORD=\"NEO4J_PASSWORD\"\n",
        "\n",
        "import os\n",
        "os.environ[\"GROQ_API_KEY\"] = \"API_KEY\"\n",
        "os.environ[\"NEO4J_URI\"] = NEO4J_URI\n",
        "os.environ[\"NEO4J_USERNAME\"] = NEO4J_USERNAME\n",
        "os.environ[\"NEO4J_PASSWORD\"] = NEO4J_PASSWORD\n"
      ]
    },
    {
      "cell_type": "markdown",
      "metadata": {
        "id": "Q91wb7vaU6k-"
      },
      "source": [
        "### Model Setup (tried using openai api but ran out of credits so will be using groq, I am deliberately leaving my key here)"
      ]
    },
    {
      "cell_type": "code",
      "execution_count": null,
      "metadata": {
        "id": "yebTtM-TTgdZ"
      },
      "outputs": [],
      "source": [
        "# Comment out original OpenAI implementation\n",
        "# from langchain_openai import ChatOpenAI\n",
        "# llm = ChatOpenAI(temperature=0, model_name=\"gpt-3.5-turbo-0125\")\n",
        "\n",
        "# New Groq implementation\n",
        "from langchain_groq import ChatGroq\n",
        "llm = ChatGroq(\n",
        "    temperature=0,\n",
        "    groq_api_key=\"API_KEY\",\n",
        "    model_name=\"mixtral-8x7b-32768\"\n",
        ")\n"
      ]
    },
    {
      "cell_type": "markdown",
      "metadata": {
        "id": "tqQ7TYRfU8ze"
      },
      "source": [
        "### Vector Store Setup and hugging face for vector embedding as it is open source."
      ]
    },
    {
      "cell_type": "code",
      "execution_count": null,
      "metadata": {
        "colab": {
          "base_uri": "https://localhost:8080/"
        },
        "id": "PhMYmymxTgap",
        "outputId": "c478ee18-2506-486f-983d-a726da916b54"
      },
      "outputs": [
        {
          "name": "stderr",
          "output_type": "stream",
          "text": [
            "<ipython-input-6-2a0768f3cbf4>:17: LangChainDeprecationWarning: The class `HuggingFaceEmbeddings` was deprecated in LangChain 0.2.2 and will be removed in 1.0. An updated version of the class exists in the :class:`~langchain-huggingface package and should be used instead. To use it run `pip install -U :class:`~langchain-huggingface` and import as `from :class:`~langchain_huggingface import HuggingFaceEmbeddings``.\n",
            "  HuggingFaceEmbeddings(),\n",
            "<ipython-input-6-2a0768f3cbf4>:17: LangChainDeprecationWarning: Default values for HuggingFaceEmbeddings.model_name were deprecated in LangChain 0.2.16 and will be removed in 0.4.0. Explicitly pass a model_name to the HuggingFaceEmbeddings constructor instead.\n",
            "  HuggingFaceEmbeddings(),\n",
            "/usr/local/lib/python3.11/dist-packages/huggingface_hub/utils/_auth.py:94: UserWarning: \n",
            "The secret `HF_TOKEN` does not exist in your Colab secrets.\n",
            "To authenticate with the Hugging Face Hub, create a token in your settings tab (https://huggingface.co/settings/tokens), set it as secret in your Google Colab and restart your session.\n",
            "You will be able to reuse this secret in all of your notebooks.\n",
            "Please note that authentication is recommended but still optional to access public models or datasets.\n",
            "  warnings.warn(\n"
          ]
        }
      ],
      "source": [
        "# Comment out OpenAI embeddings\n",
        "# from langchain_openai import OpenAIEmbeddings\n",
        "# vector_index = Neo4jVector.from_existing_graph(\n",
        "#     OpenAIEmbeddings(),\n",
        "#     search_type=\"hybrid\",\n",
        "#     node_label=\"Document\",\n",
        "#     text_node_properties=[\"text\"],\n",
        "#     embedding_node_property=\"embedding\"\n",
        "# )\n",
        "\n",
        "# Import Neo4jVector\n",
        "from langchain_community.vectorstores import Neo4jVector\n",
        "from langchain_community.embeddings import HuggingFaceEmbeddings\n",
        "\n",
        "# Create vector index\n",
        "vector_index = Neo4jVector.from_existing_graph(\n",
        "    HuggingFaceEmbeddings(),\n",
        "    search_type=\"hybrid\",\n",
        "    node_label=\"Document\",\n",
        "    text_node_properties=[\"text\"],\n",
        "    embedding_node_property=\"embedding\"\n",
        ")\n"
      ]
    },
    {
      "cell_type": "code",
      "execution_count": null,
      "metadata": {
        "colab": {
          "base_uri": "https://localhost:8080/"
        },
        "id": "ri_LfOtVTgVZ",
        "outputId": "7c51c073-cb54-428f-805a-627b63ea081c"
      },
      "outputs": [
        {
          "name": "stderr",
          "output_type": "stream",
          "text": [
            "<ipython-input-8-6e7385464d00>:1: LangChainDeprecationWarning: The class `Neo4jGraph` was deprecated in LangChain 0.3.8 and will be removed in 1.0. An updated version of the class exists in the :class:`~langchain-neo4j package and should be used instead. To use it run `pip install -U :class:`~langchain-neo4j` and import as `from :class:`~langchain_neo4j import Neo4jGraph``.\n",
            "  graph = Neo4jGraph()\n"
          ]
        }
      ],
      "source": [
        "graph = Neo4jGraph()"
      ]
    },
    {
      "cell_type": "markdown",
      "metadata": {
        "id": "r3tm6B0GciSP"
      },
      "source": [
        "### Data from wikipidea page. Choose dataset which is rich enough in terms of content and entities (people, places, events)"
      ]
    },
    {
      "cell_type": "code",
      "execution_count": 56,
      "metadata": {
        "id": "KkGAmJqETgSo"
      },
      "outputs": [],
      "source": [
        "from langchain.document_loaders import WikipediaLoader\n",
        "raw_documents = WikipediaLoader(query=\"Robert_Downey_Jr.\").load()"
      ]
    },
    {
      "cell_type": "code",
      "execution_count": 57,
      "metadata": {
        "colab": {
          "base_uri": "https://localhost:8080/"
        },
        "id": "2PqfP1GrTgP6",
        "outputId": "b1d1234e-cfbf-4aa8-e391-ce69c2c93d64"
      },
      "outputs": [
        {
          "data": {
            "text/plain": [
              "25"
            ]
          },
          "execution_count": 57,
          "metadata": {},
          "output_type": "execute_result"
        }
      ],
      "source": [
        "len(raw_documents)"
      ]
    },
    {
      "cell_type": "code",
      "execution_count": 58,
      "metadata": {
        "colab": {
          "base_uri": "https://localhost:8080/"
        },
        "collapsed": true,
        "id": "QeHEVu_0TgNI",
        "outputId": "00a8a896-a964-419c-d447-4d62e910a74a"
      },
      "outputs": [
        {
          "data": {
            "text/plain": [
              "[Document(metadata={'title': 'Robert Downey Jr.', 'summary': \"Robert John Downey Jr. (born April 4, 1965) is an American actor. His films as a leading actor have grossed over $14 billion worldwide, making him one of the highest-grossing actors of all time. In 2008, Downey was named by Time magazine as one of the 100 most influential people in the world. From 2013 to 2015, he was listed by Forbes as Hollywood's highest-paid actor.\\nAt the age of five, Downey made his acting debut in his father Robert Downey Sr.'s 1970 film Pound. He subsequently worked with the Brat Pack in the teen films Weird Science (1985) and Less than Zero (1987). Downey's portrayal of Charlie Chaplin in the 1992 biopic Chaplin garnered him a BAFTA Award for Best Actor and his first Academy Award nomination. Following a stint at the Corcoran Substance Abuse Treatment Facility on drug charges, he joined the TV series Ally McBeal in 2000 and won a Golden Globe Award for the role. Downey was fired from the show in 2001 in the wake of additional drug charges. He stayed in a court-ordered drug treatment program and has maintained his sobriety since 2003.\\nDowney made his acting comeback in the 2003 film The Singing Detective, after Mel Gibson paid his insurance bond because completion bond companies would not insure him, and went on to star in the black comedy Kiss Kiss Bang Bang (2005), the thriller Zodiac (2007) and the action comedy Tropic Thunder (2008). Downey gained global recognition for starring as Iron Man in ten Marvel Cinematic Universe (MCU) films, from Iron Man (2008) to Avengers: Endgame (2019). He also played Sherlock Holmes in Guy Ritchie's Sherlock Holmes (2009), which earned him his second Golden Globe, and in its 2011 sequel.\\nDowney has also taken on dramatic parts in The Judge (2014) and Oppenheimer (2023), winning an Academy Award, a Golden Globe, and a BAFTA Award for Best Supporting Actor for his portrayal of Lewis Strauss in the latter. He was nominated for a Primetime Emmy Award for playing multiple characters in the black comedy miniseries The Sympathizer (2024), and made his Broadway debut that year, playing the title role in Ayad Akhtar's McNeal.\", 'source': 'https://en.wikipedia.org/wiki/Robert_Downey_Jr.'}, page_content='Robert John Downey Jr. (born April 4, 1965) is an American actor. His films as a leading actor have grossed over $14 billion worldwide, making him one of the highest-grossing actors of all time. In 2008, Downey was named by Time magazine as one of the 100 most influential people in the world. From 2013 to 2015, he was listed by Forbes as Hollywood\\'s highest-paid actor.\\nAt the age of five, Downey made his acting debut in his father Robert Downey Sr.\\'s 1970 film Pound. He subsequently worked with the Brat Pack in the teen films Weird Science (1985) and Less than Zero (1987). Downey\\'s portrayal of Charlie Chaplin in the 1992 biopic Chaplin garnered him a BAFTA Award for Best Actor and his first Academy Award nomination. Following a stint at the Corcoran Substance Abuse Treatment Facility on drug charges, he joined the TV series Ally McBeal in 2000 and won a Golden Globe Award for the role. Downey was fired from the show in 2001 in the wake of additional drug charges. He stayed in a court-ordered drug treatment program and has maintained his sobriety since 2003.\\nDowney made his acting comeback in the 2003 film The Singing Detective, after Mel Gibson paid his insurance bond because completion bond companies would not insure him, and went on to star in the black comedy Kiss Kiss Bang Bang (2005), the thriller Zodiac (2007) and the action comedy Tropic Thunder (2008). Downey gained global recognition for starring as Iron Man in ten Marvel Cinematic Universe (MCU) films, from Iron Man (2008) to Avengers: Endgame (2019). He also played Sherlock Holmes in Guy Ritchie\\'s Sherlock Holmes (2009), which earned him his second Golden Globe, and in its 2011 sequel.\\nDowney has also taken on dramatic parts in The Judge (2014) and Oppenheimer (2023), winning an Academy Award, a Golden Globe, and a BAFTA Award for Best Supporting Actor for his portrayal of Lewis Strauss in the latter. He was nominated for a Primetime Emmy Award for playing multiple characters in the black comedy miniseries The Sympathizer (2024), and made his Broadway debut that year, playing the title role in Ayad Akhtar\\'s McNeal.\\n\\n\\n== Early life ==\\nRobert John Downey Jr. was born on April 4, 1965, in Manhattan, New York City, the younger of the two children. His father, Robert Downey Sr., was a filmmaker, while his mother, Elsie Ann (née Ford), was an actress who appeared in Downey Sr.\\'s films. Downey\\'s father was Jewish, while Downey\\'s mother had Scottish, German, and Swiss ancestry.\\nDowney moved often, mainly due to his father\\'s film projects, living in places such as Woodstock, New York, London, New Mexico, California, Connecticut, and Greenwich Village. The family experienced both periods of near-poverty and wealth, depending on the success of the films. As a child, Downey was \"surrounded by drugs.\" His father was a drug addict, and his mother was an alcoholic. His father allowed him to use drugs at a young age; he said that he gave Downey marijuana for the first time at age six and also gave Downey cocaine as a child. His father later said that he regretted it. Downey stated that he and his father did drugs together for the first time when he was eight, and that drug use became an emotional bond between him and his father: \"When my dad and I would do drugs together, it was like him trying to express his love for me in the only way he knew how.\"\\nDuring his childhood, Downey had minor roles in his father\\'s films. He made his acting debut at the age of five, playing a sick puppy in the absurdist comedy film Pound (1970), and then, at seven, appeared in the surrealist Western film Greaser\\'s Palace (1972). He went to Stagedoor Manor, a summer acting camp in upstate New York, when he was eleven and twelve. Downey\\'s parents divorced in 1977, when he was twelve. He went and lived with his mother in a fifth-floor apartment in New York, as she \"needed\" him after the divorce, while his sister went to live with their father in California. After a few years, Downey went to live with his '),\n",
              " Document(metadata={'title': 'Robert Downey Jr. filmography', 'summary': \"American actor Robert Downey Jr. made his acting debut in 1970's Pound, directed by his father Robert Downey Sr., at the age of five. In the 1980s, Downey was considered a member of the Brat Pack after appearing in the films Weird Science with Anthony Michael Hall (1985), Back to School with Rodney Dangerfield (1986), Less than Zero with Andrew McCarthy (1987), and Johnny Be Good again with Hall (1988). Downey also starred in the films True Believer (1989) and Chances Are (1989), and was a regular cast member on the late-night variety show Saturday Night Live in 1985.\\nIn the 1990s, Downey was featured in the films Air America with Mel Gibson (1990), Soapdish with Sally Field (1991), Chaplin as Charlie Chaplin (1992), Heart and Souls with Alfre Woodard and Kyra Sedgwick (1993), Short Cuts with Julianne Moore (1993), Only You with Marisa Tomei (1994), Richard III with Ian McKellen (1995), and U.S. Marshals with Tommy Lee Jones (1998). His role in Chaplin earned him an Academy Award nomination for Best Actor and a BAFTA Award win for Best Actor in a Leading Role.\\nDowney had a regular role in the television series Ally McBeal in 2000, which won him a Golden Globe for Best Supporting Actor. He was then cast in the 2003 films The Singing Detective alongside Robin Wright and Gothika with Halle Berry. In 2005, he starred in Kiss Kiss Bang Bang with Val Kilmer; in Good Night, and Good Luck with David Strathairn and George Clooney; and voiced the character of Patrick Pewterschmidt in the animated series Family Guy. The following year, he appeared in the animated science fiction film A Scanner Darkly and as Paul Avery in the 2007 film Zodiac.\\nDowney was cast as the role of Tony Stark / Iron Man in the 2008 Marvel Studios film Iron Man. He reprised the role in Iron Man 2 (2010), The Avengers (2012), Iron Man 3, Avengers: Age of Ultron (2015), Captain America: Civil War (2016), Spider-Man: Homecoming (2017), Avengers: Infinity War (2018), and Avengers: Endgame (2019). He also starred in the films Tropic Thunder (2008) and The Soloist (2009), and played the title character in Sherlock Holmes (2009) and Sherlock Holmes: A Game of Shadows (2011). In 2020, he starred as the title character in Dolittle. For his role in Tropic Thunder, he was nominated for an Academy Award and a BAFTA for Best Supporting Actor. He also won a Golden Globe Award for Best Actor for his role in Sherlock Holmes. For his role as Lewis Strauss in Christopher Nolan's Oppenheimer (2023), Downey received a Golden Globe Award, BAFTA Award, Screen Actors Guild Award, and Academy Award for Best Supporting Actor.\", 'source': 'https://en.wikipedia.org/wiki/Robert_Downey_Jr._filmography'}, page_content=\"American actor Robert Downey Jr. made his acting debut in 1970's Pound, directed by his father Robert Downey Sr., at the age of five. In the 1980s, Downey was considered a member of the Brat Pack after appearing in the films Weird Science with Anthony Michael Hall (1985), Back to School with Rodney Dangerfield (1986), Less than Zero with Andrew McCarthy (1987), and Johnny Be Good again with Hall (1988). Downey also starred in the films True Believer (1989) and Chances Are (1989), and was a regular cast member on the late-night variety show Saturday Night Live in 1985.\\nIn the 1990s, Downey was featured in the films Air America with Mel Gibson (1990), Soapdish with Sally Field (1991), Chaplin as Charlie Chaplin (1992), Heart and Souls with Alfre Woodard and Kyra Sedgwick (1993), Short Cuts with Julianne Moore (1993), Only You with Marisa Tomei (1994), Richard III with Ian McKellen (1995), and U.S. Marshals with Tommy Lee Jones (1998). His role in Chaplin earned him an Academy Award nomination for Best Actor and a BAFTA Award win for Best Actor in a Leading Role.\\nDowney had a regular role in the television series Ally McBeal in 2000, which won him a Golden Globe for Best Supporting Actor. He was then cast in the 2003 films The Singing Detective alongside Robin Wright and Gothika with Halle Berry. In 2005, he starred in Kiss Kiss Bang Bang with Val Kilmer; in Good Night, and Good Luck with David Strathairn and George Clooney; and voiced the character of Patrick Pewterschmidt in the animated series Family Guy. The following year, he appeared in the animated science fiction film A Scanner Darkly and as Paul Avery in the 2007 film Zodiac.\\nDowney was cast as the role of Tony Stark / Iron Man in the 2008 Marvel Studios film Iron Man. He reprised the role in Iron Man 2 (2010), The Avengers (2012), Iron Man 3, Avengers: Age of Ultron (2015), Captain America: Civil War (2016), Spider-Man: Homecoming (2017), Avengers: Infinity War (2018), and Avengers: Endgame (2019). He also starred in the films Tropic Thunder (2008) and The Soloist (2009), and played the title character in Sherlock Holmes (2009) and Sherlock Holmes: A Game of Shadows (2011). In 2020, he starred as the title character in Dolittle. For his role in Tropic Thunder, he was nominated for an Academy Award and a BAFTA for Best Supporting Actor. He also won a Golden Globe Award for Best Actor for his role in Sherlock Holmes. For his role as Lewis Strauss in Christopher Nolan's Oppenheimer (2023), Downey received a Golden Globe Award, BAFTA Award, Screen Actors Guild Award, and Academy Award for Best Supporting Actor.\\n\\n\\n== Film ==\\n\\n\\n== Television ==\\n\\n\\n== Theatre ==\\n\\n\\n== Video game ==\\n\\n\\n== Music ==\\n\\n\\n== References ==\\n\\n\\n== External links ==\\nRobert Downey Jr. at IMDb\\nRobert Downey Jr. at the Rotten Tomatoes\"),\n",
              " Document(metadata={'title': 'Robert Downey Sr.', 'summary': 'Robert John Downey Sr. (né Elias Jr.; June 24, 1936 – July 7, 2021) was an American film director, screenwriter and actor. He was known for writing and directing the underground film Putney Swope (1969), a satire on the New York Madison Avenue advertising world. According to film scholar Wheeler Winston Dixon, Downey\\'s films during the 1960s were \"strictly take-no-prisoners affairs, with minimal budgets and outrageous satire, effectively pushing forward the countercultural agenda of the day.\" He was the father of American actor Robert Downey Jr.\\n\\n', 'source': 'https://en.wikipedia.org/wiki/Robert_Downey_Sr.'}, page_content='Robert John Downey Sr. (né Elias Jr.; June 24, 1936 – July 7, 2021) was an American film director, screenwriter and actor. He was known for writing and directing the underground film Putney Swope (1969), a satire on the New York Madison Avenue advertising world. According to film scholar Wheeler Winston Dixon, Downey\\'s films during the 1960s were \"strictly take-no-prisoners affairs, with minimal budgets and outrageous satire, effectively pushing forward the countercultural agenda of the day.\" He was the father of American actor Robert Downey Jr.\\n\\n\\n== Early life ==\\nRobert John Downey Sr. was born Robert John Elias Jr. in the Manhattan borough of New York City, on June 24, 1936. He was the son of Elizabeth \"Betty\" McLauchlen, a model and magazine editor, and Robert John Elias Sr., who worked in management of motels and restaurants. His paternal grandparents were Lithuanian Jews, while his mother was of half Hungarian Jewish and half Irish ancestry. He grew up in Rockville Centre, New York. He changed his surname to Downey after his stepfather, when he wanted to enlist in the United States Army while being underage. Downey later said he wrote an unpublished novel during his time in the army, though he spent much of his military career \"in the stockade\".\\n\\n\\n== Career ==\\nDowney initially made his mark creating very low-budget independent films aligning with the absurdist movement, in line with counterculture, anti-establishment, 1960s America. His work in the late 1960s and 1970s was quintessential anti-establishment, reflecting the nonconformity popularized by larger counterculture movements and given impetus by new freedoms in films, such as the breakdown of film censorship codes. In keeping with the underground tradition, his 1970s films were independently made on shoestring budgets and were relatively obscure in the Absurdist movement, finding cult notoriety.\\nIn 1961, working with film editor Fred von Bernewitz, Downey began writing and directing low-budget 16mm films that gained an underground following, beginning with Ball\\'s Bluff (1961), a fantasy short about a Civil War soldier who awakens in Central Park in 1961. He moved into big-budget filmmaking with the surrealistic Greaser\\'s Palace (1972). His last film was Rittenhouse Square (2005), a documentary capturing life in a Philadelphia park.\\nDowney\\'s films were often family affairs. His first wife appears in four of his films (Chafed Elbows, Pound, Greaser\\'s Palace, Moment to Moment), as well as co-writing one (Moment to Moment). Daughter Allyson and son Robert Downey Jr. each made their film debuts in the 1970 absurdist comedy Pound at the ages of 7 and 5, respectively; Allyson would appear in one more film by her father, Up the Academy. Robert Jr.\\'s lengthy acting résumé includes appearances in eight films directed by his father (Pound, Greaser\\'s Palace, Moment to Moment, Up the Academy, America, Rented Lips, Too Much Sun, Hugo Pool), as well as two acting appearances in movies where his father was also an actor (Johnny Be Good, Hail Caesar).\\nUnmade projects include a script written in the 1980s for Hal Ashby to direct, variously referred to under the titles Victor Hiatus and Almost Together, and a film set to be executive produced by Paul Thomas Anderson in the 2000s, Forest Hills Bob.\\n\\n\\n== Personal life and death ==\\nDowney was married three times. His first marriage was to actress Elsie Ann Ford (1934–2014) in 1962, with whom he had two children: actress-writer Allyson (b. 1963) and actor Robert Jr. (b. 1965). The marriage ended in divorce in 1975. His second marriage, to actress-writer Laura Ernst, lasted until her death on January 27, 1994, from amyotrophic lateral sclerosis. In 1998, he married his third wife, Rosemary Rogers, humorist and co-author of Saints Preserve Us! and other books. They lived in New York City. Downey died of complications from Parkinson\\'s disease in his sleep at his home in Manhattan, on July 7, 2021, thirteen days after his 85th birthday.\\n\\n\\n==')]"
            ]
          },
          "execution_count": 58,
          "metadata": {},
          "output_type": "execute_result"
        }
      ],
      "source": [
        "raw_documents[:3]"
      ]
    },
    {
      "cell_type": "markdown",
      "metadata": {
        "id": "6sTfzVmpdB6Y"
      },
      "source": [
        "### Data preprocessing (could have done spell check, lower casing, stemming and lemetization, but not eeded because the source is Wikipedia)"
      ]
    },
    {
      "cell_type": "code",
      "execution_count": 59,
      "metadata": {
        "id": "HlrAMkXATgKa"
      },
      "outputs": [],
      "source": [
        "from langchain.text_splitter import TokenTextSplitter\n",
        "text_splitter = TokenTextSplitter(chunk_size=512, chunk_overlap=24)\n",
        "documents = text_splitter.split_documents(raw_documents[:3])"
      ]
    },
    {
      "cell_type": "markdown",
      "metadata": {
        "id": "FJTr9cW1dbxo"
      },
      "source": [
        "### Graph Transformer Setup"
      ]
    },
    {
      "cell_type": "code",
      "execution_count": 60,
      "metadata": {
        "id": "WABHtYUgTgHo"
      },
      "outputs": [],
      "source": [
        "# Import the LLMGraphTransformer from langchain_experimental for graph-based transformations\n",
        "# Initialize the transformer with the specified language model (llm) for processing graph data\n",
        "from langchain_experimental.graph_transformers import LLMGraphTransformer\n",
        "llm_transformer = LLMGraphTransformer(llm=llm)"
      ]
    },
    {
      "cell_type": "code",
      "execution_count": 61,
      "metadata": {
        "id": "6PY9j13BTgEw"
      },
      "outputs": [],
      "source": [
        "# Convert the text documents into graph documents using the LLM transformer\n",
        "# This transforms plain text into structured graph representations with nodes and relationships\n",
        "graph_documents = llm_transformer.convert_to_graph_documents(documents)"
      ]
    },
    {
      "cell_type": "code",
      "execution_count": 62,
      "metadata": {
        "colab": {
          "base_uri": "https://localhost:8080/"
        },
        "collapsed": true,
        "id": "tevMXxDVTgCB",
        "outputId": "fdd31f92-767a-4485-c9fe-5ac74ee7e5c5"
      },
      "outputs": [
        {
          "data": {
            "text/plain": [
              "[GraphDocument(nodes=[Node(id='Robert John Downey Jr.', type='Person', properties={}), Node(id='Robert Downey Sr.', type='Person', properties={}), Node(id='April 4, 1965', type='Date', properties={}), Node(id='Manhattan', type='Location', properties={}), Node(id='New York City', type='Location', properties={})], relationships=[Relationship(source=Node(id='Robert John Downey Jr.', type='Person', properties={}), target=Node(id='April 4, 1965', type='Date', properties={}), type='BIRTHDAY', properties={}), Relationship(source=Node(id='Robert John Downey Jr.', type='Person', properties={}), target=Node(id='Manhattan', type='Location', properties={}), type='BIRTHPLACE', properties={}), Relationship(source=Node(id='Robert John Downey Jr.', type='Person', properties={}), target=Node(id='New York City', type='Location', properties={}), type='BIRTHPLACE', properties={}), Relationship(source=Node(id='Robert John Downey Jr.', type='Person', properties={}), target=Node(id='Robert Downey Sr.', type='Person', properties={}), type='PARENT', properties={})], source=Document(metadata={'title': 'Robert Downey Jr.', 'summary': \"Robert John Downey Jr. (born April 4, 1965) is an American actor. His films as a leading actor have grossed over $14 billion worldwide, making him one of the highest-grossing actors of all time. In 2008, Downey was named by Time magazine as one of the 100 most influential people in the world. From 2013 to 2015, he was listed by Forbes as Hollywood's highest-paid actor.\\nAt the age of five, Downey made his acting debut in his father Robert Downey Sr.'s 1970 film Pound. He subsequently worked with the Brat Pack in the teen films Weird Science (1985) and Less than Zero (1987). Downey's portrayal of Charlie Chaplin in the 1992 biopic Chaplin garnered him a BAFTA Award for Best Actor and his first Academy Award nomination. Following a stint at the Corcoran Substance Abuse Treatment Facility on drug charges, he joined the TV series Ally McBeal in 2000 and won a Golden Globe Award for the role. Downey was fired from the show in 2001 in the wake of additional drug charges. He stayed in a court-ordered drug treatment program and has maintained his sobriety since 2003.\\nDowney made his acting comeback in the 2003 film The Singing Detective, after Mel Gibson paid his insurance bond because completion bond companies would not insure him, and went on to star in the black comedy Kiss Kiss Bang Bang (2005), the thriller Zodiac (2007) and the action comedy Tropic Thunder (2008). Downey gained global recognition for starring as Iron Man in ten Marvel Cinematic Universe (MCU) films, from Iron Man (2008) to Avengers: Endgame (2019). He also played Sherlock Holmes in Guy Ritchie's Sherlock Holmes (2009), which earned him his second Golden Globe, and in its 2011 sequel.\\nDowney has also taken on dramatic parts in The Judge (2014) and Oppenheimer (2023), winning an Academy Award, a Golden Globe, and a BAFTA Award for Best Supporting Actor for his portrayal of Lewis Strauss in the latter. He was nominated for a Primetime Emmy Award for playing multiple characters in the black comedy miniseries The Sympathizer (2024), and made his Broadway debut that year, playing the title role in Ayad Akhtar's McNeal.\", 'source': 'https://en.wikipedia.org/wiki/Robert_Downey_Jr.'}, page_content=\"Robert John Downey Jr. (born April 4, 1965) is an American actor. His films as a leading actor have grossed over $14 billion worldwide, making him one of the highest-grossing actors of all time. In 2008, Downey was named by Time magazine as one of the 100 most influential people in the world. From 2013 to 2015, he was listed by Forbes as Hollywood's highest-paid actor.\\nAt the age of five, Downey made his acting debut in his father Robert Downey Sr.'s 1970 film Pound. He subsequently worked with the Brat Pack in the teen films Weird Science (1985) and Less than Zero (1987). Downey's portrayal of Charlie Chaplin in the 1992 biopic Chaplin garnered him a BAFTA Award for Best Actor and his first Academy Award nomination. Following a stint at the Corcoran Substance Abuse Treatment Facility on drug charges, he joined the TV series Ally McBeal in 2000 and won a Golden Globe Award for the role. Downey was fired from the show in 2001 in the wake of additional drug charges. He stayed in a court-ordered drug treatment program and has maintained his sobriety since 2003.\\nDowney made his acting comeback in the 2003 film The Singing Detective, after Mel Gibson paid his insurance bond because completion bond companies would not insure him, and went on to star in the black comedy Kiss Kiss Bang Bang (2005), the thriller Zodiac (2007) and the action comedy Tropic Thunder (2008). Downey gained global recognition for starring as Iron Man in ten Marvel Cinematic Universe (MCU) films, from Iron Man (2008) to Avengers: Endgame (2019). He also played Sherlock Holmes in Guy Ritchie's Sherlock Holmes (2009), which earned him his second Golden Globe, and in its 2011 sequel.\\nDowney has also taken on dramatic parts in The Judge (2014) and Oppenheimer (2023), winning an Academy Award, a Golden Globe, and a BAFTA Award for Best Supporting Actor for his portrayal of Lewis Strauss in the latter. He was nominated for a Primetime Emmy Award for playing multiple characters in the black comedy miniseries The Sympathizer (2024), and made his Broadway debut that year, playing the title role in Ayad Akhtar's McNeal.\\n\\n\\n== Early life ==\\nRobert John Downey Jr. was born on April 4, 1965, in Manhattan, New York City, the younger of the two children. His father, Robert\")),\n",
              " GraphDocument(nodes=[Node(id='Robert Downey Jr.', type='Person', properties={}), Node(id='Robert Downey Sr.', type='Person', properties={}), Node(id='Elsie Ann (Née Ford)', type='Person', properties={}), Node(id='Manhattan', type='Location', properties={}), Node(id='New York City', type='Location', properties={}), Node(id='Woodstock', type='Location', properties={}), Node(id='London', type='Location', properties={}), Node(id='New Mexico', type='Location', properties={}), Node(id='California', type='Location', properties={}), Node(id='Connecticut', type='Location', properties={}), Node(id='Greenwich Village', type='Location', properties={}), Node(id='Pound (1970)', type='Film', properties={}), Node(id=\"Greaser'S Palace (1972)\", type='Film', properties={})], relationships=[Relationship(source=Node(id='Robert Downey Jr.', type='Person', properties={}), target=Node(id='April 4, 1965', type='Date', properties={}), type='BIRTH', properties={}), Relationship(source=Node(id='Robert Downey Jr.', type='Person', properties={}), target=Node(id='Manhattan', type='Location', properties={}), type='BIRTH_PLACE', properties={}), Relationship(source=Node(id='Robert Downey Jr.', type='Person', properties={}), target=Node(id='New York City', type='Location', properties={}), type='BIRTH_PLACE', properties={}), Relationship(source=Node(id='Robert Downey Jr.', type='Person', properties={}), target=Node(id='Robert Downey Sr.', type='Person', properties={}), type='PARENT', properties={}), Relationship(source=Node(id='Robert Downey Jr.', type='Person', properties={}), target=Node(id='Elsie Ann (Née Ford)', type='Person', properties={}), type='PARENT', properties={}), Relationship(source=Node(id='Robert Downey Sr.', type='Person', properties={}), target=Node(id='Filmmaker', type='Occupation', properties={}), type='HAS_OCCUPATION', properties={}), Relationship(source=Node(id='Elsie Ann (Née Ford)', type='Person', properties={}), target=Node(id='Actress', type='Occupation', properties={}), type='HAS_OCCUPATION', properties={}), Relationship(source=Node(id='Robert Downey Sr.', type='Person', properties={}), target=Node(id='Elsie Ann (Née Ford)', type='Person', properties={}), type='SPOUSE', properties={}), Relationship(source=Node(id='Robert Downey Sr.', type='Person', properties={}), target=Node(id='Woodstock', type='Location', properties={}), type='LIVED', properties={}), Relationship(source=Node(id='Robert Downey Jr.', type='Person', properties={}), target=Node(id='Woodstock', type='Location', properties={}), type='LIVED', properties={}), Relationship(source=Node(id='Robert Downey Sr.', type='Person', properties={}), target=Node(id='London', type='Location', properties={}), type='LIVED', properties={}), Relationship(source=Node(id='Robert Downey Jr.', type='Person', properties={}), target=Node(id='London', type='Location', properties={}), type='LIVED', properties={}), Relationship(source=Node(id='Robert Downey Sr.', type='Person', properties={}), target=Node(id='New Mexico', type='Location', properties={}), type='LIVED', properties={}), Relationship(source=Node(id='Robert Downey Jr.', type='Person', properties={}), target=Node(id='New Mexico', type='Location', properties={}), type='LIVED', properties={}), Relationship(source=Node(id='Robert Downey Sr.', type='Person', properties={}), target=Node(id='California', type='Location', properties={}), type='LIVED', properties={}), Relationship(source=Node(id='Robert Downey Jr.', type='Person', properties={}), target=Node(id='California', type='Location', properties={}), type='LIVED', properties={}), Relationship(source=Node(id='Robert Downey Sr.', type='Person', properties={}), target=Node(id='Connecticut', type='Location', properties={}), type='LIVED', properties={}), Relationship(source=Node(id='Robert Downey Jr.', type='Person', properties={}), target=Node(id='Connecticut', type='Location', properties={}), type='LIVED', properties={}), Relationship(source=Node(id='Robert Downey Sr.', type='Person', properties={}), target=Node(id='Greenwich Village', type='Location', properties={}), type='LIVED', properties={}), Relationship(source=Node(id='Robert Downey Jr.', type='Person', properties={}), target=Node(id='Greenwich Village', type='Location', properties={}), type='LIVED', properties={}), Relationship(source=Node(id='Robert Downey Sr.', type='Person', properties={}), target=Node(id='Pound (1970)', type='Film', properties={}), type='APPEARED_IN', properties={}), Relationship(source=Node(id='Robert Downey Jr.', type='Person', properties={}), target=Node(id='Pound (1970)', type='Film', properties={}), type='APPEARED_IN', properties={}), Relationship(source=Node(id='Robert Downey Jr.', type='Person', properties={}), target=Node(id=\"Greaser'S Palace (1972)\", type='Film', properties={}), type='APPEARED_IN', properties={})], source=Document(metadata={'title': 'Robert Downey Jr.', 'summary': \"Robert John Downey Jr. (born April 4, 1965) is an American actor. His films as a leading actor have grossed over $14 billion worldwide, making him one of the highest-grossing actors of all time. In 2008, Downey was named by Time magazine as one of the 100 most influential people in the world. From 2013 to 2015, he was listed by Forbes as Hollywood's highest-paid actor.\\nAt the age of five, Downey made his acting debut in his father Robert Downey Sr.'s 1970 film Pound. He subsequently worked with the Brat Pack in the teen films Weird Science (1985) and Less than Zero (1987). Downey's portrayal of Charlie Chaplin in the 1992 biopic Chaplin garnered him a BAFTA Award for Best Actor and his first Academy Award nomination. Following a stint at the Corcoran Substance Abuse Treatment Facility on drug charges, he joined the TV series Ally McBeal in 2000 and won a Golden Globe Award for the role. Downey was fired from the show in 2001 in the wake of additional drug charges. He stayed in a court-ordered drug treatment program and has maintained his sobriety since 2003.\\nDowney made his acting comeback in the 2003 film The Singing Detective, after Mel Gibson paid his insurance bond because completion bond companies would not insure him, and went on to star in the black comedy Kiss Kiss Bang Bang (2005), the thriller Zodiac (2007) and the action comedy Tropic Thunder (2008). Downey gained global recognition for starring as Iron Man in ten Marvel Cinematic Universe (MCU) films, from Iron Man (2008) to Avengers: Endgame (2019). He also played Sherlock Holmes in Guy Ritchie's Sherlock Holmes (2009), which earned him his second Golden Globe, and in its 2011 sequel.\\nDowney has also taken on dramatic parts in The Judge (2014) and Oppenheimer (2023), winning an Academy Award, a Golden Globe, and a BAFTA Award for Best Supporting Actor for his portrayal of Lewis Strauss in the latter. He was nominated for a Primetime Emmy Award for playing multiple characters in the black comedy miniseries The Sympathizer (2024), and made his Broadway debut that year, playing the title role in Ayad Akhtar's McNeal.\", 'source': 'https://en.wikipedia.org/wiki/Robert_Downey_Jr.'}, page_content=' on April 4, 1965, in Manhattan, New York City, the younger of the two children. His father, Robert Downey Sr., was a filmmaker, while his mother, Elsie Ann (née Ford), was an actress who appeared in Downey Sr.\\'s films. Downey\\'s father was Jewish, while Downey\\'s mother had Scottish, German, and Swiss ancestry.\\nDowney moved often, mainly due to his father\\'s film projects, living in places such as Woodstock, New York, London, New Mexico, California, Connecticut, and Greenwich Village. The family experienced both periods of near-poverty and wealth, depending on the success of the films. As a child, Downey was \"surrounded by drugs.\" His father was a drug addict, and his mother was an alcoholic. His father allowed him to use drugs at a young age; he said that he gave Downey marijuana for the first time at age six and also gave Downey cocaine as a child. His father later said that he regretted it. Downey stated that he and his father did drugs together for the first time when he was eight, and that drug use became an emotional bond between him and his father: \"When my dad and I would do drugs together, it was like him trying to express his love for me in the only way he knew how.\"\\nDuring his childhood, Downey had minor roles in his father\\'s films. He made his acting debut at the age of five, playing a sick puppy in the absurdist comedy film Pound (1970), and then, at seven, appeared in the surrealist Western film Greaser\\'s Palace (1972). He went to Stagedoor Manor, a summer acting camp in upstate New York, when he was eleven and twelve. Downey\\'s parents divorced in 1977, when he was twelve. He went and lived with his mother in a fifth-floor apartment in New York, as she \"needed\" him after the divorce, while his sister went to live with their father in California. After a few years, Downey went to live with his ')),\n",
              " GraphDocument(nodes=[Node(id='Robert Downey Jr.', type='Person', properties={}), Node(id='Robert Downey Sr.', type='Person', properties={}), Node(id='Pound', type='Film', properties={}), Node(id='Anthony Michael Hall', type='Person', properties={}), Node(id='Weird Science', type='Film', properties={}), Node(id='Rodney Dangerfield', type='Person', properties={}), Node(id='Back To School', type='Film', properties={}), Node(id='Andrew Mccarthy', type='Person', properties={}), Node(id='Less Than Zero', type='Film', properties={}), Node(id='Johnny Be Good', type='Film', properties={}), Node(id='True Believer', type='Film', properties={}), Node(id='Chances Are', type='Film', properties={}), Node(id='Saturday Night Live', type='Television_show', properties={}), Node(id='Mel Gibson', type='Person', properties={}), Node(id='Air America', type='Film', properties={}), Node(id='Sally Field', type='Person', properties={}), Node(id='Soapdish', type='Film', properties={}), Node(id='Chaplin', type='Film', properties={}), Node(id='Alfre Woodard', type='Person', properties={}), Node(id='Kyra Sedgwick', type='Person', properties={}), Node(id='Heart And Souls', type='Film', properties={}), Node(id='Julianne Moore', type='Person', properties={}), Node(id='Short Cuts', type='Film', properties={}), Node(id='Marisa Tomei', type='Person', properties={}), Node(id='Only You', type='Film', properties={}), Node(id='Ian Mckellen', type='Person', properties={}), Node(id='Richard Iii', type='Film', properties={}), Node(id='Tommy Lee Jones', type='Person', properties={}), Node(id='U.S. Marshals', type='Film', properties={}), Node(id='Ally Mcbeal', type='Television_show', properties={}), Node(id='Golden Globe', type='Award', properties={}), Node(id='The Singing Detective', type='Film', properties={}), Node(id='Robin Wright', type='Person', properties={}), Node(id='Gothika', type='Film', properties={}), Node(id='Kiss Kiss Bang Bang', type='Film', properties={}), Node(id='Val Kilmer', type='Person', properties={}), Node(id='Good Night, And Good Luck', type='Film', properties={}), Node(id='David Strathairn', type='Person', properties={}), Node(id='George Clooney', type='Person', properties={}), Node(id='Family Guy', type='Animated_series', properties={}), Node(id='A Scanner Darkly', type='Animated_film', properties={}), Node(id='Zodiac', type='Film', properties={}), Node(id='Tropic Thunder', type='Film', properties={}), Node(id='The Soloist', type='Film', properties={}), Node(id='Sherlock Holmes', type='Film', properties={}), Node(id='Sherlock Holmes: A Game Of Shadows', type='Film', properties={}), Node(id='Tony Stark / Iron Man', type='Character', properties={}), Node(id='Iron Man', type='Film', properties={}), Node(id='Iron Man 2', type='Film', properties={}), Node(id='The Avengers', type='Film', properties={}), Node(id='Iron Man 3', type='Film', properties={}), Node(id='Avengers: Age Of Ultron', type='Film', properties={}), Node(id='Captain America: Civil War', type='Film', properties={}), Node(id='Spider-Man: Homecoming', type='Film', properties={}), Node(id='Avengers: Infinity War', type='Film', properties={}), Node(id='Avengers: Endgame', type='Film', properties={})], relationships=[Relationship(source=Node(id='Robert Downey Jr.', type='Person', properties={}), target=Node(id='Pound', type='Film', properties={}), type='ACTED_IN', properties={}), Relationship(source=Node(id='Robert Downey Sr.', type='Person', properties={}), target=Node(id='Pound', type='Film', properties={}), type='DIRECTED', properties={}), Relationship(source=Node(id='Robert Downey Jr.', type='Person', properties={}), target=Node(id='Robert Downey Sr.', type='Person', properties={}), type='CHILD_OF', properties={}), Relationship(source=Node(id='Robert Downey Jr.', type='Person', properties={}), target=Node(id='Weird Science', type='Film', properties={}), type='ACTED_IN', properties={}), Relationship(source=Node(id='Anthony Michael Hall', type='Person', properties={}), target=Node(id='Weird Science', type='Film', properties={}), type='ACTED_IN', properties={}), Relationship(source=Node(id='Robert Downey Jr.', type='Person', properties={}), target=Node(id='Back To School', type='Film', properties={}), type='ACTED_IN', properties={}), Relationship(source=Node(id='Rodney Dangerfield', type='Person', properties={}), target=Node(id='Back To School', type='Film', properties={}), type='ACTED_IN', properties={}), Relationship(source=Node(id='Robert Downey Jr.', type='Person', properties={}), target=Node(id='Less Than Zero', type='Film', properties={}), type='ACTED_IN', properties={}), Relationship(source=Node(id='Andrew Mccarthy', type='Person', properties={}), target=Node(id='Less Than Zero', type='Film', properties={}), type='ACTED_IN', properties={}), Relationship(source=Node(id='Robert Downey Jr.', type='Person', properties={}), target=Node(id='Johnny Be Good', type='Film', properties={}), type='ACTED_IN', properties={}), Relationship(source=Node(id='Anthony Michael Hall', type='Person', properties={}), target=Node(id='Johnny Be Good', type='Film', properties={}), type='ACTED_IN', properties={}), Relationship(source=Node(id='Robert Downey Jr.', type='Person', properties={}), target=Node(id='True Believer', type='Film', properties={}), type='ACTED_IN', properties={}), Relationship(source=Node(id='Robert Downey Jr.', type='Person', properties={}), target=Node(id='Chances Are', type='Film', properties={}), type='ACTED_IN', properties={}), Relationship(source=Node(id='Robert Downey Jr.', type='Person', properties={}), target=Node(id='Saturday Night Live', type='Television_show', properties={}), type='CAST_MEMBER', properties={}), Relationship(source=Node(id='Robert Downey Jr.', type='Person', properties={}), target=Node(id='Air America', type='Film', properties={}), type='ACTED_IN', properties={}), Relationship(source=Node(id='Mel Gibson', type='Person', properties={}), target=Node(id='Air America', type='Film', properties={}), type='ACTED_IN', properties={}), Relationship(source=Node(id='Robert Downey Jr.', type='Person', properties={}), target=Node(id='Soapdish', type='Film', properties={}), type='ACTED_IN', properties={}), Relationship(source=Node(id='Sally Field', type='Person', properties={}), target=Node(id='Soapdish', type='Film', properties={}), type='ACTED_IN', properties={}), Relationship(source=Node(id='Robert Downey Jr.', type='Person', properties={}), target=Node(id='Chaplin', type='Film', properties={}), type='ACTED_IN', properties={}), Relationship(source=Node(id='Alfre Woodard', type='Person', properties={}), target=Node(id='Heart And Souls', type='Film', properties={}), type='ACTED_IN', properties={}), Relationship(source=Node(id='Kyra Sedgwick', type='Person', properties={}), target=Node(id='Heart And Souls', type='Film', properties={}), type='ACTED_IN', properties={}), Relationship(source=Node(id='Robert Downey Jr.', type='Person', properties={}), target=Node(id='Julianne Moore', type='Person', properties={}), type='ACTED_IN_FILM_WITH', properties={}), Relationship(source=Node(id='Robert Downey Jr.', type='Person', properties={}), target=Node(id='Short Cuts', type='Film', properties={}), type='ACTED_IN', properties={}), Relationship(source=Node(id='Marisa Tomei', type='Person', properties={}), target=Node(id='Only You', type='Film', properties={}), type='ACTED_IN', properties={}), Relationship(source=Node(id='Robert Downey Jr.', type='Person', properties={}), target=Node(id='Ian Mckellen', type='Person', properties={}), type='ACTED_IN_FILM_WITH', properties={}), Relationship(source=Node(id='Robert Downey Jr.', type='Person', properties={}), target=Node(id='Richard Iii', type='Film', properties={}), type='ACTED_IN', properties={}), Relationship(source=Node(id='Tommy Lee Jones', type='Person', properties={}), target=Node(id='U.S. Marshals', type='Film', properties={}), type='ACTED_IN', properties={}), Relationship(source=Node(id='Robert Downey Jr.', type='Person', properties={}), target=Node(id='U.S. Marshals', type='Film', properties={}), type='ACTED_IN', properties={}), Relationship(source=Node(id='Robert Downey Jr.', type='Person', properties={}), target=Node(id='Ally Mcbeal', type='Television_show', properties={}), type='REGULAR_CAST_MEMBER', properties={}), Relationship(source=Node(id='Robert Downey Jr.', type='Person', properties={}), target=Node(id='Golden Globe', type='Award', properties={}), type='WON', properties={}), Relationship(source=Node(id='Robert Downey Jr.', type='Person', properties={}), target=Node(id='The Singing Detective', type='Film', properties={}), type='ACTED_IN', properties={}), Relationship(source=Node(id='Robin Wright', type='Person', properties={}), target=Node(id='The Singing Detective', type='Film', properties={}), type='ACTED_IN', properties={}), Relationship(source=Node(id='Robert Downey Jr.', type='Person', properties={}), target=Node(id='Gothika', type='Film', properties={}), type='ACTED_IN', properties={}), Relationship(source=Node(id='Halle Berry', type='Person', properties={}), target=Node(id='Gothika', type='Film', properties={}), type='ACTED_IN', properties={}), Relationship(source=Node(id='Robert Downey Jr.', type='Person', properties={}), target=Node(id='Kiss Kiss Bang Bang', type='Film', properties={}), type='ACTED_IN', properties={}), Relationship(source=Node(id='Val Kilmer', type='Person', properties={}), target=Node(id='Kiss Kiss Bang Bang', type='Film', properties={}), type='ACTED_IN', properties={}), Relationship(source=Node(id='Robert Downey Jr.', type='Person', properties={}), target=Node(id='Good Night, And Good Luck', type='Film', properties={}), type='ACTED_IN', properties={}), Relationship(source=Node(id='David Strathairn', type='Person', properties={}), target=Node(id='Good Night, And Good Luck', type='Film', properties={}), type='ACTED_IN', properties={}), Relationship(source=Node(id='George Clooney', type='Person', properties={}), target=Node(id='Good Night, And Good Luck', type='Film', properties={}), type='ACTED_IN', properties={}), Relationship(source=Node(id='Robert Downey Jr.', type='Person', properties={}), target=Node(id='Family Guy', type='Animated_series', properties={}), type='VOICED_CHARACTER', properties={}), Relationship(source=Node(id='Robert Downey Jr.', type='Person', properties={}), target=Node(id='A Scanner Darkly', type='Animated_film', properties={}), type='ACTED_IN', properties={}), Relationship(source=Node(id='Robert Downey Jr.', type='Person', properties={}), target=Node(id='Zodiac', type='Film', properties={}), type='ACTED_IN', properties={}), Relationship(source=Node(id='Robert Downey Jr.', type='Person', properties={}), target=Node(id='Tropic Thunder', type='Film', properties={}), type='ACTED_IN', properties={}), Relationship(source=Node(id='Robert Downey Jr.', type='Person', properties={}), target=Node(id='The Soloist', type='Film', properties={}), type='ACTED_IN', properties={}), Relationship(source=Node(id='Robert Downey Jr.', type='Person', properties={}), target=Node(id='Sherlock Holmes', type='Film', properties={}), type='ACTED_IN', properties={}), Relationship(source=Node(id='Robert Downey Jr.', type='Person', properties={}), target=Node(id='Sherlock Holmes: A Game Of Shadows', type='Film', properties={}), type='ACTED_IN', properties={}), Relationship(source=Node(id='Robert Downey Jr.', type='Person', properties={}), target=Node(id='Tony Stark / Iron Man', type='Character', properties={}), type='PORTRAYED', properties={}), Relationship(source=Node(id='Robert Downey Jr.', type='Person', properties={}), target=Node(id='Iron Man', type='Film', properties={}), type='ACTED_IN', properties={}), Relationship(source=Node(id='Robert Downey Jr.', type='Person', properties={}), target=Node(id='Iron Man 2', type='Film', properties={}), type='ACTED_IN', properties={}), Relationship(source=Node(id='Robert Downey Jr.', type='Person', properties={}), target=Node(id='The Avengers', type='Film', properties={}), type='ACTED_IN', properties={}), Relationship(source=Node(id='Robert Downey Jr.', type='Person', properties={}), target=Node(id='Iron Man 3', type='Film', properties={}), type='ACTED_IN', properties={}), Relationship(source=Node(id='Robert Downey Jr.', type='Person', properties={}), target=Node(id='Avengers: Age Of Ultron', type='Film', properties={}), type='ACTED_IN', properties={}), Relationship(source=Node(id='Robert Downey Jr.', type='Person', properties={}), target=Node(id='Captain America: Civil War', type='Film', properties={}), type='ACTED_IN', properties={}), Relationship(source=Node(id='Robert Downey Jr.', type='Person', properties={}), target=Node(id='Spider-Man: Homecoming', type='Film', properties={}), type='ACTED_IN', properties={}), Relationship(source=Node(id='Robert Downey Jr.', type='Person', properties={}), target=Node(id='Avengers: Infinity War', type='Film', properties={}), type='ACTED_IN', properties={}), Relationship(source=Node(id='Robert Downey Jr.', type='Person', properties={}), target=Node(id='Avengers: Endgame', type='Film', properties={}), type='ACTED_IN', properties={})], source=Document(metadata={'title': 'Robert Downey Jr. filmography', 'summary': \"American actor Robert Downey Jr. made his acting debut in 1970's Pound, directed by his father Robert Downey Sr., at the age of five. In the 1980s, Downey was considered a member of the Brat Pack after appearing in the films Weird Science with Anthony Michael Hall (1985), Back to School with Rodney Dangerfield (1986), Less than Zero with Andrew McCarthy (1987), and Johnny Be Good again with Hall (1988). Downey also starred in the films True Believer (1989) and Chances Are (1989), and was a regular cast member on the late-night variety show Saturday Night Live in 1985.\\nIn the 1990s, Downey was featured in the films Air America with Mel Gibson (1990), Soapdish with Sally Field (1991), Chaplin as Charlie Chaplin (1992), Heart and Souls with Alfre Woodard and Kyra Sedgwick (1993), Short Cuts with Julianne Moore (1993), Only You with Marisa Tomei (1994), Richard III with Ian McKellen (1995), and U.S. Marshals with Tommy Lee Jones (1998). His role in Chaplin earned him an Academy Award nomination for Best Actor and a BAFTA Award win for Best Actor in a Leading Role.\\nDowney had a regular role in the television series Ally McBeal in 2000, which won him a Golden Globe for Best Supporting Actor. He was then cast in the 2003 films The Singing Detective alongside Robin Wright and Gothika with Halle Berry. In 2005, he starred in Kiss Kiss Bang Bang with Val Kilmer; in Good Night, and Good Luck with David Strathairn and George Clooney; and voiced the character of Patrick Pewterschmidt in the animated series Family Guy. The following year, he appeared in the animated science fiction film A Scanner Darkly and as Paul Avery in the 2007 film Zodiac.\\nDowney was cast as the role of Tony Stark / Iron Man in the 2008 Marvel Studios film Iron Man. He reprised the role in Iron Man 2 (2010), The Avengers (2012), Iron Man 3, Avengers: Age of Ultron (2015), Captain America: Civil War (2016), Spider-Man: Homecoming (2017), Avengers: Infinity War (2018), and Avengers: Endgame (2019). He also starred in the films Tropic Thunder (2008) and The Soloist (2009), and played the title character in Sherlock Holmes (2009) and Sherlock Holmes: A Game of Shadows (2011). In 2020, he starred as the title character in Dolittle. For his role in Tropic Thunder, he was nominated for an Academy Award and a BAFTA for Best Supporting Actor. He also won a Golden Globe Award for Best Actor for his role in Sherlock Holmes. For his role as Lewis Strauss in Christopher Nolan's Oppenheimer (2023), Downey received a Golden Globe Award, BAFTA Award, Screen Actors Guild Award, and Academy Award for Best Supporting Actor.\", 'source': 'https://en.wikipedia.org/wiki/Robert_Downey_Jr._filmography'}, page_content=\"American actor Robert Downey Jr. made his acting debut in 1970's Pound, directed by his father Robert Downey Sr., at the age of five. In the 1980s, Downey was considered a member of the Brat Pack after appearing in the films Weird Science with Anthony Michael Hall (1985), Back to School with Rodney Dangerfield (1986), Less than Zero with Andrew McCarthy (1987), and Johnny Be Good again with Hall (1988). Downey also starred in the films True Believer (1989) and Chances Are (1989), and was a regular cast member on the late-night variety show Saturday Night Live in 1985.\\nIn the 1990s, Downey was featured in the films Air America with Mel Gibson (1990), Soapdish with Sally Field (1991), Chaplin as Charlie Chaplin (1992), Heart and Souls with Alfre Woodard and Kyra Sedgwick (1993), Short Cuts with Julianne Moore (1993), Only You with Marisa Tomei (1994), Richard III with Ian McKellen (1995), and U.S. Marshals with Tommy Lee Jones (1998). His role in Chaplin earned him an Academy Award nomination for Best Actor and a BAFTA Award win for Best Actor in a Leading Role.\\nDowney had a regular role in the television series Ally McBeal in 2000, which won him a Golden Globe for Best Supporting Actor. He was then cast in the 2003 films The Singing Detective alongside Robin Wright and Gothika with Halle Berry. In 2005, he starred in Kiss Kiss Bang Bang with Val Kilmer; in Good Night, and Good Luck with David Strathairn and George Clooney; and voiced the character of Patrick Pewterschmidt in the animated series Family Guy. The following year, he appeared in the animated science fiction film A Scanner Darkly and as Paul Avery in the 2007 film Zodiac.\\nDowney was cast as the role of Tony Stark / Iron Man in the 2008 Marvel Studios film Iron Man. He reprised the role in Iron Man 2 (2010), The Avengers (2012), Iron Man 3, Avengers: Age of Ultron (2015), Captain America: Civil War (2016), Spider-Man: Homecoming (2017), Avengers: Infinity War (2018), and Avengers: Endgame (2019). He also starred in the films Tropic Thunder (2008) and The Soloist (2009), and played the title character in Sherlock Holmes (2009) and Sherlock Holmes: A Game of Shadows (2011).\")),\n",
              " GraphDocument(nodes=[Node(id='Robert Downey Jr.', type='Person', properties={}), Node(id='Sherlock Holmes (2009)', type='Film', properties={}), Node(id='Sherlock Holmes: A Game Of Shadows (2011)', type='Film', properties={}), Node(id='Dolittle (2020)', type='Film', properties={}), Node(id='Tropic Thunder', type='Film', properties={}), Node(id='Oppenheimer (2023)', type='Film', properties={})], relationships=[Relationship(source=Node(id='Robert Downey Jr.', type='Person', properties={}), target=Node(id='Sherlock Holmes (2009)', type='Film', properties={}), type='ACTOR', properties={}), Relationship(source=Node(id='Robert Downey Jr.', type='Person', properties={}), target=Node(id='Sherlock Holmes: A Game Of Shadows (2011)', type='Film', properties={}), type='ACTOR', properties={}), Relationship(source=Node(id='Robert Downey Jr.', type='Person', properties={}), target=Node(id='Dolittle (2020)', type='Film', properties={}), type='ACTOR', properties={}), Relationship(source=Node(id='Robert Downey Jr.', type='Person', properties={}), target=Node(id='Tropic Thunder', type='Film', properties={}), type='ACTOR', properties={}), Relationship(source=Node(id='Robert Downey Jr.', type='Person', properties={}), target=Node(id='Oppenheimer (2023)', type='Film', properties={}), type='ACTOR', properties={}), Relationship(source=Node(id='Robert Downey Jr.', type='Person', properties={}), target=Node(id='Tropic Thunder', type='Film', properties={}), type='NOMINATED_FOR_ACADEMY_AWARD_BEST_SUPPORTING_ACTOR', properties={}), Relationship(source=Node(id='Robert Downey Jr.', type='Person', properties={}), target=Node(id='Tropic Thunder', type='Film', properties={}), type='NOMINATED_FOR_BAFTA_BEST_SUPPORTING_ACTOR', properties={}), Relationship(source=Node(id='Robert Downey Jr.', type='Person', properties={}), target=Node(id='Sherlock Holmes', type='Film', properties={}), type='WON_GOLDEN_GLOBE_AWARD_BEST_ACTOR', properties={}), Relationship(source=Node(id='Robert Downey Jr.', type='Person', properties={}), target=Node(id='Oppenheimer (2023)', type='Film', properties={}), type='WON_GOLDEN_GLOBE_AWARD_BEST_SUPPORTING_ACTOR', properties={}), Relationship(source=Node(id='Robert Downey Jr.', type='Person', properties={}), target=Node(id='Oppenheimer (2023)', type='Film', properties={}), type='WON_BAFTA_AWARD_BEST_SUPPORTING_ACTOR', properties={}), Relationship(source=Node(id='Robert Downey Jr.', type='Person', properties={}), target=Node(id='Oppenheimer (2023)', type='Film', properties={}), type='WON_SCREEN_ACTORS_GUILD_AWARD_BEST_SUPPORTING_ACTOR', properties={}), Relationship(source=Node(id='Robert Downey Jr.', type='Person', properties={}), target=Node(id='Oppenheimer (2023)', type='Film', properties={}), type='WON_ACADEMY_AWARD_BEST_SUPPORTING_ACTOR', properties={})], source=Document(metadata={'title': 'Robert Downey Jr. filmography', 'summary': \"American actor Robert Downey Jr. made his acting debut in 1970's Pound, directed by his father Robert Downey Sr., at the age of five. In the 1980s, Downey was considered a member of the Brat Pack after appearing in the films Weird Science with Anthony Michael Hall (1985), Back to School with Rodney Dangerfield (1986), Less than Zero with Andrew McCarthy (1987), and Johnny Be Good again with Hall (1988). Downey also starred in the films True Believer (1989) and Chances Are (1989), and was a regular cast member on the late-night variety show Saturday Night Live in 1985.\\nIn the 1990s, Downey was featured in the films Air America with Mel Gibson (1990), Soapdish with Sally Field (1991), Chaplin as Charlie Chaplin (1992), Heart and Souls with Alfre Woodard and Kyra Sedgwick (1993), Short Cuts with Julianne Moore (1993), Only You with Marisa Tomei (1994), Richard III with Ian McKellen (1995), and U.S. Marshals with Tommy Lee Jones (1998). His role in Chaplin earned him an Academy Award nomination for Best Actor and a BAFTA Award win for Best Actor in a Leading Role.\\nDowney had a regular role in the television series Ally McBeal in 2000, which won him a Golden Globe for Best Supporting Actor. He was then cast in the 2003 films The Singing Detective alongside Robin Wright and Gothika with Halle Berry. In 2005, he starred in Kiss Kiss Bang Bang with Val Kilmer; in Good Night, and Good Luck with David Strathairn and George Clooney; and voiced the character of Patrick Pewterschmidt in the animated series Family Guy. The following year, he appeared in the animated science fiction film A Scanner Darkly and as Paul Avery in the 2007 film Zodiac.\\nDowney was cast as the role of Tony Stark / Iron Man in the 2008 Marvel Studios film Iron Man. He reprised the role in Iron Man 2 (2010), The Avengers (2012), Iron Man 3, Avengers: Age of Ultron (2015), Captain America: Civil War (2016), Spider-Man: Homecoming (2017), Avengers: Infinity War (2018), and Avengers: Endgame (2019). He also starred in the films Tropic Thunder (2008) and The Soloist (2009), and played the title character in Sherlock Holmes (2009) and Sherlock Holmes: A Game of Shadows (2011). In 2020, he starred as the title character in Dolittle. For his role in Tropic Thunder, he was nominated for an Academy Award and a BAFTA for Best Supporting Actor. He also won a Golden Globe Award for Best Actor for his role in Sherlock Holmes. For his role as Lewis Strauss in Christopher Nolan's Oppenheimer (2023), Downey received a Golden Globe Award, BAFTA Award, Screen Actors Guild Award, and Academy Award for Best Supporting Actor.\", 'source': 'https://en.wikipedia.org/wiki/Robert_Downey_Jr._filmography'}, page_content=\"2009), and played the title character in Sherlock Holmes (2009) and Sherlock Holmes: A Game of Shadows (2011). In 2020, he starred as the title character in Dolittle. For his role in Tropic Thunder, he was nominated for an Academy Award and a BAFTA for Best Supporting Actor. He also won a Golden Globe Award for Best Actor for his role in Sherlock Holmes. For his role as Lewis Strauss in Christopher Nolan's Oppenheimer (2023), Downey received a Golden Globe Award, BAFTA Award, Screen Actors Guild Award, and Academy Award for Best Supporting Actor.\\n\\n\\n== Film ==\\n\\n\\n== Television ==\\n\\n\\n== Theatre ==\\n\\n\\n== Video game ==\\n\\n\\n== Music ==\\n\\n\\n== References ==\\n\\n\\n== External links ==\\nRobert Downey Jr. at IMDb\\nRobert Downey Jr. at the Rotten Tomatoes\")),\n",
              " GraphDocument(nodes=[Node(id='Robert John Downey Sr.', type='Person', properties={}), Node(id='Robert Downey Jr.', type='Person', properties={}), Node(id='Putney Swope', type='Film', properties={}), Node(id='Manhattan', type='Location', properties={}), Node(id='Rockville Centre', type='Location', properties={}), Node(id='United States Army', type='Organization', properties={}), Node(id='Absurdist Movement', type='Movement', properties={}), Node(id='1960S America', type='Period', properties={}), Node(id='Underground Film', type='Film', properties={}), Node(id='New York Madison Avenue Advertising World', type='Industry', properties={}), Node(id='Central Park', type='Location', properties={}), Node(id=\"Greaser'S Palace\", type='Film', properties={}), Node(id='Rittenhouse Square', type='Location', properties={}), Node(id='Philadelphia', type='Location', properties={}), Node(id='Lithuanian Jews', type='Ethnicity', properties={}), Node(id='Hungarian Jews', type='Ethnicity', properties={}), Node(id='Irish', type='Ethnicity', properties={}), Node(id='Elizabeth Mclauchlen', type='Person', properties={}), Node(id='Robert John Elias Sr.', type='Person', properties={}), Node(id='Fred Von Bernewitz', type='Person', properties={})], relationships=[Relationship(source=Node(id='Robert John Downey Sr.', type='Person', properties={}), target=Node(id='Robert Downey Jr.', type='Person', properties={}), type='PARENT_OF', properties={}), Relationship(source=Node(id='Robert John Downey Sr.', type='Person', properties={}), target=Node(id='Putney Swope', type='Film', properties={}), type='WROTE_AND_DIRECTED', properties={}), Relationship(source=Node(id='Robert John Downey Sr.', type='Person', properties={}), target=Node(id='Manhattan', type='Location', properties={}), type='BORN_IN', properties={}), Relationship(source=Node(id='Robert John Downey Sr.', type='Person', properties={}), target=Node(id='Rockville Centre', type='Location', properties={}), type='GREW_UP_IN', properties={}), Relationship(source=Node(id='Robert John Downey Sr.', type='Person', properties={}), target=Node(id='United States Army', type='Organization', properties={}), type='SERVED_IN', properties={}), Relationship(source=Node(id='Robert John Downey Sr.', type='Person', properties={}), target=Node(id='Absurdist Movement', type='Movement', properties={}), type='ALIGNED_WITH', properties={}), Relationship(source=Node(id='Robert John Downey Sr.', type='Person', properties={}), target=Node(id='1960S America', type='Period', properties={}), type='ACTIVE_IN', properties={}), Relationship(source=Node(id='Robert John Downey Sr.', type='Person', properties={}), target=Node(id='Underground Film', type='Film', properties={}), type='CREATED', properties={}), Relationship(source=Node(id='Robert John Downey Sr.', type='Person', properties={}), target=Node(id='New York Madison Avenue Advertising World', type='Industry', properties={}), type='SATIRIZED', properties={}), Relationship(source=Node(id='Robert John Downey Sr.', type='Person', properties={}), target=Node(id='Central Park', type='Location', properties={}), type='FEATURED_IN', properties={}), Relationship(source=Node(id='Robert John Downey Sr.', type='Person', properties={}), target=Node(id=\"Greaser'S Palace\", type='Film', properties={}), type='DIRECTED', properties={}), Relationship(source=Node(id='Robert John Downey Sr.', type='Person', properties={}), target=Node(id='Rittenhouse Square', type='Location', properties={}), type='FEATURED_IN', properties={}), Relationship(source=Node(id='Robert John Downey Sr.', type='Person', properties={}), target=Node(id='Philadelphia', type='Location', properties={}), type='ASSOCIATED_WITH', properties={}), Relationship(source=Node(id='Robert John Downey Sr.', type='Person', properties={}), target=Node(id='Lithuanian Jews', type='Ethnicity', properties={}), type='HAS_ANCESTRY', properties={}), Relationship(source=Node(id='Robert John Downey Sr.', type='Person', properties={}), target=Node(id='Hungarian Jews', type='Ethnicity', properties={}), type='HAS_ANCESTRY', properties={}), Relationship(source=Node(id='Robert John Downey Sr.', type='Person', properties={}), target=Node(id='Irish', type='Ethnicity', properties={}), type='HAS_ANCESTRY', properties={}), Relationship(source=Node(id='Robert John Downey Sr.', type='Person', properties={}), target=Node(id='Elizabeth Mclauchlen', type='Person', properties={}), type='MOTHER_OF', properties={}), Relationship(source=Node(id='Robert John Downey Sr.', type='Person', properties={}), target=Node(id='Robert John Elias Sr.', type='Person', properties={}), type='FATHER_OF', properties={}), Relationship(source=Node(id='Robert John Downey Sr.', type='Person', properties={}), target=Node(id='Fred Von Bernewitz', type='Person', properties={}), type='WORKED_WITH', properties={})], source=Document(metadata={'title': 'Robert Downey Sr.', 'summary': 'Robert John Downey Sr. (né Elias Jr.; June 24, 1936 – July 7, 2021) was an American film director, screenwriter and actor. He was known for writing and directing the underground film Putney Swope (1969), a satire on the New York Madison Avenue advertising world. According to film scholar Wheeler Winston Dixon, Downey\\'s films during the 1960s were \"strictly take-no-prisoners affairs, with minimal budgets and outrageous satire, effectively pushing forward the countercultural agenda of the day.\" He was the father of American actor Robert Downey Jr.\\n\\n', 'source': 'https://en.wikipedia.org/wiki/Robert_Downey_Sr.'}, page_content='Robert John Downey Sr. (né Elias Jr.; June 24, 1936 – July 7, 2021) was an American film director, screenwriter and actor. He was known for writing and directing the underground film Putney Swope (1969), a satire on the New York Madison Avenue advertising world. According to film scholar Wheeler Winston Dixon, Downey\\'s films during the 1960s were \"strictly take-no-prisoners affairs, with minimal budgets and outrageous satire, effectively pushing forward the countercultural agenda of the day.\" He was the father of American actor Robert Downey Jr.\\n\\n\\n== Early life ==\\nRobert John Downey Sr. was born Robert John Elias Jr. in the Manhattan borough of New York City, on June 24, 1936. He was the son of Elizabeth \"Betty\" McLauchlen, a model and magazine editor, and Robert John Elias Sr., who worked in management of motels and restaurants. His paternal grandparents were Lithuanian Jews, while his mother was of half Hungarian Jewish and half Irish ancestry. He grew up in Rockville Centre, New York. He changed his surname to Downey after his stepfather, when he wanted to enlist in the United States Army while being underage. Downey later said he wrote an unpublished novel during his time in the army, though he spent much of his military career \"in the stockade\".\\n\\n\\n== Career ==\\nDowney initially made his mark creating very low-budget independent films aligning with the absurdist movement, in line with counterculture, anti-establishment, 1960s America. His work in the late 1960s and 1970s was quintessential anti-establishment, reflecting the nonconformity popularized by larger counterculture movements and given impetus by new freedoms in films, such as the breakdown of film censorship codes. In keeping with the underground tradition, his 1970s films were independently made on shoestring budgets and were relatively obscure in the Absurdist movement, finding cult notoriety.\\nIn 1961, working with film editor Fred von Bernewitz, Downey began writing and directing low-budget 16mm films that gained an underground following, beginning with Ball\\'s Bluff (1961), a fantasy short about a Civil War soldier who awakens in Central Park in 1961. He moved into big-budget filmmaking with the surrealistic Greaser\\'s Palace (1972). His last film was Rittenhouse Square (2005), a documentary capturing life in a Philadelphia park.\\nDowney\\'s films were often family affairs. His first')),\n",
              " GraphDocument(nodes=[Node(id='Robert Downey Sr.', type='Person', properties={}), Node(id='Elsie Ann Ford', type='Person', properties={}), Node(id='Allyson Downey', type='Person', properties={}), Node(id='Robert Downey Jr.', type='Person', properties={}), Node(id='Laura Ernst', type='Person', properties={}), Node(id='Rosemary Rogers', type='Person', properties={})], relationships=[Relationship(source=Node(id='Robert Downey Sr.', type='Person', properties={}), target=Node(id='Elsie Ann Ford', type='Person', properties={}), type='MARRIED', properties={}), Relationship(source=Node(id='Robert Downey Sr.', type='Person', properties={}), target=Node(id='Allyson Downey', type='Person', properties={}), type='PARENT', properties={}), Relationship(source=Node(id='Robert Downey Sr.', type='Person', properties={}), target=Node(id='Robert Downey Jr.', type='Person', properties={}), type='PARENT', properties={}), Relationship(source=Node(id='Robert Downey Sr.', type='Person', properties={}), target=Node(id='Laura Ernst', type='Person', properties={}), type='MARRIED', properties={}), Relationship(source=Node(id='Robert Downey Sr.', type='Person', properties={}), target=Node(id='Rosemary Rogers', type='Person', properties={}), type='MARRIED', properties={}), Relationship(source=Node(id='Elsie Ann Ford', type='Person', properties={}), target=Node(id='Allyson Downey', type='Person', properties={}), type='PARENT', properties={}), Relationship(source=Node(id='Elsie Ann Ford', type='Person', properties={}), target=Node(id='Robert Downey Jr.', type='Person', properties={}), type='PARENT', properties={}), Relationship(source=Node(id='Allyson Downey', type='Person', properties={}), target=Node(id='Pound', type='Film', properties={}), type='ACTED_IN', properties={}), Relationship(source=Node(id='Robert Downey Jr.', type='Person', properties={}), target=Node(id='Pound', type='Film', properties={}), type='ACTED_IN', properties={}), Relationship(source=Node(id='Allyson Downey', type='Person', properties={}), target=Node(id='Up The Academy', type='Film', properties={}), type='ACTED_IN', properties={}), Relationship(source=Node(id='Robert Downey Jr.', type='Person', properties={}), target=Node(id='Up The Academy', type='Film', properties={}), type='ACTED_IN', properties={}), Relationship(source=Node(id='Robert Downey Jr.', type='Person', properties={}), target=Node(id='Johnny Be Good', type='Film', properties={}), type='ACTED_IN', properties={}), Relationship(source=Node(id='Robert Downey Jr.', type='Person', properties={}), target=Node(id='Hail Caesar', type='Film', properties={}), type='ACTED_IN', properties={}), Relationship(source=Node(id='Robert Downey Sr.', type='Person', properties={}), target=Node(id='Pound', type='Film', properties={}), type='DIRECTED', properties={}), Relationship(source=Node(id='Robert Downey Sr.', type='Person', properties={}), target=Node(id=\"Greaser'S Palace\", type='Film', properties={}), type='DIRECTED', properties={}), Relationship(source=Node(id='Robert Downey Sr.', type='Person', properties={}), target=Node(id='Moment To Moment', type='Film', properties={}), type='DIRECTED', properties={}), Relationship(source=Node(id='Robert Downey Sr.', type='Person', properties={}), target=Node(id='Up The Academy', type='Film', properties={}), type='DIRECTED', properties={}), Relationship(source=Node(id='Robert Downey Sr.', type='Person', properties={}), target=Node(id='America', type='Film', properties={}), type='DIRECTED', properties={}), Relationship(source=Node(id='Robert Downey Sr.', type='Person', properties={}), target=Node(id='Rented Lips', type='Film', properties={}), type='DIRECTED', properties={}), Relationship(source=Node(id='Robert Downey Sr.', type='Person', properties={}), target=Node(id='Too Much Sun', type='Film', properties={}), type='DIRECTED', properties={}), Relationship(source=Node(id='Robert Downey Sr.', type='Person', properties={}), target=Node(id='Hugo Pool', type='Film', properties={}), type='DIRECTED', properties={}), Relationship(source=Node(id='Robert Downey Sr.', type='Person', properties={}), target=Node(id='Victor Hiatus', type='Unmade_project', properties={}), type='WROTE', properties={}), Relationship(source=Node(id='Robert Downey Sr.', type='Person', properties={}), target=Node(id='Almost Together', type='Unmade_project', properties={}), type='WROTE', properties={}), Relationship(source=Node(id='Robert Downey Sr.', type='Person', properties={}), target=Node(id='Forest Hills Bob', type='Unmade_project', properties={}), type='EXECUTIVE_PRODUCED', properties={})], source=Document(metadata={'title': 'Robert Downey Sr.', 'summary': 'Robert John Downey Sr. (né Elias Jr.; June 24, 1936 – July 7, 2021) was an American film director, screenwriter and actor. He was known for writing and directing the underground film Putney Swope (1969), a satire on the New York Madison Avenue advertising world. According to film scholar Wheeler Winston Dixon, Downey\\'s films during the 1960s were \"strictly take-no-prisoners affairs, with minimal budgets and outrageous satire, effectively pushing forward the countercultural agenda of the day.\" He was the father of American actor Robert Downey Jr.\\n\\n', 'source': 'https://en.wikipedia.org/wiki/Robert_Downey_Sr.'}, page_content=\" (2005), a documentary capturing life in a Philadelphia park.\\nDowney's films were often family affairs. His first wife appears in four of his films (Chafed Elbows, Pound, Greaser's Palace, Moment to Moment), as well as co-writing one (Moment to Moment). Daughter Allyson and son Robert Downey Jr. each made their film debuts in the 1970 absurdist comedy Pound at the ages of 7 and 5, respectively; Allyson would appear in one more film by her father, Up the Academy. Robert Jr.'s lengthy acting résumé includes appearances in eight films directed by his father (Pound, Greaser's Palace, Moment to Moment, Up the Academy, America, Rented Lips, Too Much Sun, Hugo Pool), as well as two acting appearances in movies where his father was also an actor (Johnny Be Good, Hail Caesar).\\nUnmade projects include a script written in the 1980s for Hal Ashby to direct, variously referred to under the titles Victor Hiatus and Almost Together, and a film set to be executive produced by Paul Thomas Anderson in the 2000s, Forest Hills Bob.\\n\\n\\n== Personal life and death ==\\nDowney was married three times. His first marriage was to actress Elsie Ann Ford (1934–2014) in 1962, with whom he had two children: actress-writer Allyson (b. 1963) and actor Robert Jr. (b. 1965). The marriage ended in divorce in 1975. His second marriage, to actress-writer Laura Ernst, lasted until her death on January 27, 1994, from amyotrophic lateral sclerosis. In 1998, he married his third wife, Rosemary Rogers, humorist and co-author of Saints Preserve Us! and other books. They lived in New York City. Downey died of complications from Parkinson's disease in his sleep at his home in Manhattan, on July 7, 2021, thirteen days after his 85th birthday.\\n\\n\\n==\"))]"
            ]
          },
          "execution_count": 62,
          "metadata": {},
          "output_type": "execute_result"
        }
      ],
      "source": [
        "graph_documents"
      ]
    },
    {
      "cell_type": "code",
      "execution_count": 63,
      "metadata": {
        "id": "XWaAJfNtTf_T"
      },
      "outputs": [],
      "source": [
        "# Add the transformed graph documents to the Neo4j graph database\n",
        "# baseEntityLabel=True creates base entity labels for nodes\n",
        "# include_source=True preserves the source document information\n",
        "graph.add_graph_documents(\n",
        "    graph_documents,\n",
        "    baseEntityLabel=True,\n",
        "    include_source=True\n",
        ")\n",
        "\n",
        "# Define a default Cypher query to visualize the graph\n",
        "# This query matches all non-MENTIONS relationships between nodes\n",
        "# Limits the result to 50 relationships for visualization\n",
        "default_cypher = \"MATCH (s)-[r:!MENTIONS]->(t) RETURN s,r,t LIMIT 50\""
      ]
    },
    {
      "cell_type": "code",
      "execution_count": 64,
      "metadata": {
        "id": "rgj4cDLRTf8w"
      },
      "outputs": [],
      "source": [
        "# directly show the graph resulting from the given Cypher query\n",
        "default_cypher = \"MATCH (s)-[r:!MENTIONS]->(t) RETURN s,r,t LIMIT 50\""
      ]
    },
    {
      "cell_type": "code",
      "execution_count": 65,
      "metadata": {
        "id": "e2ejWiTbTf54"
      },
      "outputs": [],
      "source": [
        "# Import required libraries for graph visualization\n",
        "from yfiles_jupyter_graphs import GraphWidget\n",
        "from neo4j import GraphDatabase\n",
        "\n",
        "# Enable custom widget manager for Google Colab compatibility\n",
        "try:\n",
        "  import google.colab\n",
        "  from google.colab import output\n",
        "  output.enable_custom_widget_manager()\n",
        "except:\n",
        "  pass\n",
        "\n",
        "# Define a function to visualize the graph using yfiles_jupyter_graphs\n",
        "def showGraph(cypher: str = default_cypher):\n",
        "    # Create a Neo4j session using environment credentials\n",
        "    driver = GraphDatabase.driver(\n",
        "        uri = os.environ[\"NEO4J_URI\"],\n",
        "        auth = (os.environ[\"NEO4J_USERNAME\"],\n",
        "                os.environ[\"NEO4J_PASSWORD\"]))\n",
        "    session = driver.session()\n",
        "    # Create and configure the graph widget\n",
        "    widget = GraphWidget(graph = session.run(cypher).graph())\n",
        "    widget.node_label_mapping = 'id'\n",
        "    display(widget)\n",
        "    return widget"
      ]
    },
    {
      "cell_type": "code",
      "execution_count": 68,
      "metadata": {
        "colab": {
          "base_uri": "https://localhost:8080/",
          "height": 1000,
          "referenced_widgets": [
            "220ba0a796704746977c7db60c46e44f",
            "bb55a4cbc1f84e13be112f1fa4fb35f9"
          ]
        },
        "id": "nPUEKaVfTfx4",
        "outputId": "5672900d-cd29-44ba-e23a-dfe6fd15c7d3"
      },
      "outputs": [
        {
          "data": {
            "application/vnd.jupyter.widget-view+json": {
              "model_id": "220ba0a796704746977c7db60c46e44f",
              "version_major": 2,
              "version_minor": 0
            },
            "text/plain": [
              "GraphWidget(layout=Layout(height='800px', width='100%'))"
            ]
          },
          "metadata": {
            "application/vnd.jupyter.widget-view+json": {
              "colab": {
                "custom_widget_manager": {
                  "url": "https://ssl.gstatic.com/colaboratory-static/widgets/colab-cdn-widget-manager/2b70e893a8ba7c0f/manager.min.js"
                }
              }
            }
          },
          "output_type": "display_data"
        },
        {
          "data": {
            "application/vnd.jupyter.widget-view+json": {
              "model_id": "220ba0a796704746977c7db60c46e44f",
              "version_major": 2,
              "version_minor": 0
            },
            "text/plain": [
              "GraphWidget(layout=Layout(height='800px', width='100%'))"
            ]
          },
          "metadata": {
            "application/vnd.jupyter.widget-view+json": {
              "colab": {
                "custom_widget_manager": {
                  "url": "https://ssl.gstatic.com/colaboratory-static/widgets/colab-cdn-widget-manager/2b70e893a8ba7c0f/manager.min.js"
                }
              }
            }
          },
          "output_type": "display_data"
        }
      ],
      "source": [
        "showGraph()"
      ]
    },
    {
      "cell_type": "code",
      "execution_count": 69,
      "metadata": {
        "id": "h2ae-Yz6TfvS"
      },
      "outputs": [],
      "source": [
        "# Import typing for type hints\n",
        "from typing import Tuple, List, Optional\n",
        "\n",
        "# Create a fulltext index on entity nodes for efficient text search\n",
        "# The index is created on the 'id' property of nodes with label '__Entity__'\n",
        "graph.query(\"CREATE FULLTEXT INDEX entity IF NOT EXISTS FOR (e:__Entity__) ON EACH [e.id]\")"
      ]
    },
    {
      "cell_type": "markdown",
      "metadata": {
        "id": "MwK5U7y-fIt7"
      },
      "source": [
        "### Entity Extraction Setup"
      ]
    },
    {
      "cell_type": "code",
      "execution_count": 71,
      "metadata": {
        "id": "fnsnURu2TfqA"
      },
      "outputs": [],
      "source": [
        "# Define a Pydantic model for entity extraction\n",
        "from langchain_core.pydantic_v1 import BaseModel, Field\n",
        "\n",
        "class Entities(BaseModel):\n",
        "    \"\"\"Identifying information about entities.\"\"\"\n",
        "    names: List[str] = Field(\n",
        "        ...,\n",
        "        description=\"All the person, organization, or business entities that appear in the text\",\n",
        "    )"
      ]
    },
    {
      "cell_type": "code",
      "execution_count": 72,
      "metadata": {
        "id": "2vzvl_NtTfnT"
      },
      "outputs": [],
      "source": [
        "from langchain_core.prompts import ChatPromptTemplate\n",
        "from langchain_core.prompts.prompt import PromptTemplate"
      ]
    },
    {
      "cell_type": "markdown",
      "metadata": {
        "id": "_wz-hDJPfMPF"
      },
      "source": [
        "### Prompt Templates and RAG integration"
      ]
    },
    {
      "cell_type": "code",
      "execution_count": 73,
      "metadata": {
        "id": "fM39ue2nTfkq"
      },
      "outputs": [],
      "source": [
        "# Create a chat prompt template for entity extraction\n",
        "# The system message defines the AI's role for entity extraction\n",
        "# The human message provides the format for input processing\n",
        "prompt = ChatPromptTemplate.from_messages([\n",
        "    (\n",
        "        \"system\",\n",
        "        \"You are extracting organization and person entities from the text.\",\n",
        "    ),\n",
        "    (\n",
        "        \"human\",\n",
        "        \"Use the given format to extract information from the following input: {question}\",\n",
        "    ),\n",
        "])\n",
        "\n",
        "# Create an entity extraction chain by combining the prompt with the LLM\n",
        "# The chain will output structured data in the Entities format\n",
        "entity_chain = prompt | llm.with_structured_output(Entities)"
      ]
    },
    {
      "cell_type": "code",
      "execution_count": 83,
      "metadata": {
        "colab": {
          "base_uri": "https://localhost:8080/"
        },
        "id": "tD1bonCmTffQ",
        "outputId": "7d998333-6dc1-45a3-d16e-c76abd0731a5"
      },
      "outputs": [
        {
          "data": {
            "text/plain": [
              "['Spiderman']"
            ]
          },
          "execution_count": 83,
          "metadata": {},
          "output_type": "execute_result"
        }
      ],
      "source": [
        "# Test the entity extraction chain with a sample question\n",
        "# The chain extracts 'Spiderman' as an entity from the question\n",
        "entity_chain.invoke({\"question\": \"Where was Spiderman born?\"}).names\n"
      ]
    },
    {
      "cell_type": "code",
      "execution_count": 84,
      "metadata": {
        "id": "E-BnNdbRTfcw"
      },
      "outputs": [],
      "source": [
        "# Import utility function to handle Lucene special characters in text search\n",
        "from langchain_community.vectorstores.neo4j_vector import remove_lucene_chars"
      ]
    },
    {
      "cell_type": "code",
      "execution_count": 85,
      "metadata": {
        "id": "-EMzPFayTfaA"
      },
      "outputs": [],
      "source": [
        "# Define a function to generate fuzzy text search queries\n",
        "# Adds fuzzy matching (~2) to each word in the input query\n",
        "def generate_full_text_query(input: str) -> str:\n",
        "    full_text_query = \"\"\n",
        "    words = [el for el in remove_lucene_chars(input).split() if el]\n",
        "    for word in words[:-1]:\n",
        "        full_text_query += f\" {word}~2 AND\"\n",
        "    full_text_query += f\" {words[-1]}~2\"\n",
        "    return full_text_query.strip()\n",
        "\n",
        "# Define a structured retriever function that uses entity extraction\n",
        "# and fulltext search to find relevant information in the graph\n",
        "def structured_retriever(question: str) -> str:\n",
        "    result = \"\"\n",
        "    entities = entity_chain.invoke({\"question\": question})\n",
        "    for entity in entities.names:\n",
        "        response = graph.query(\n",
        "            \"\"\"CALL db.index.fulltext.queryNodes('entity', $query, {limit:2})\n",
        "            YIELD node,score\n",
        "            CALL {\n",
        "              WITH node\n",
        "              MATCH (node)-[r:!MENTIONS]->(neighbor)\n",
        "              RETURN node.id + ' - ' + type(r) + ' -> ' + neighbor.id AS output\n",
        "              UNION ALL\n",
        "              WITH node\n",
        "              MATCH (node)<-[r:!MENTIONS]-(neighbor)\n",
        "              RETURN neighbor.id + ' - ' + type(r) + ' -> ' +  node.id AS output\n",
        "            }\n",
        "            RETURN output LIMIT 50\n",
        "            \"\"\",\n",
        "            {\"query\": generate_full_text_query(entity)},\n",
        "        )\n",
        "        result += \"\\n\".join([el['output'] for el in response])\n",
        "    return result"
      ]
    },
    {
      "cell_type": "code",
      "execution_count": 87,
      "metadata": {
        "colab": {
          "base_uri": "https://localhost:8080/"
        },
        "id": "jjyqYt7wTfUj",
        "outputId": "3d7629c7-8137-449d-e3ef-c935fc9f8604"
      },
      "outputs": [
        {
          "name": "stderr",
          "output_type": "stream",
          "text": [
            "WARNING:neo4j.notifications:Received notification from DBMS server: {severity: WARNING} {code: Neo.ClientNotification.Statement.FeatureDeprecationWarning} {category: DEPRECATION} {title: This feature is deprecated and will be removed in future versions.} {description: CALL subquery without a variable scope clause is now deprecated. Use CALL (node, node) { ... }} {position: line: 3, column: 13, offset: 104} for query: \"CALL db.index.fulltext.queryNodes('entity', $query, {limit:2})\\n            YIELD node,score\\n            CALL {\\n              WITH node\\n              MATCH (node)-[r:!MENTIONS]->(neighbor)\\n              RETURN node.id + ' - ' + type(r) + ' -> ' + neighbor.id AS output\\n              UNION ALL\\n              WITH node\\n              MATCH (node)<-[r:!MENTIONS]-(neighbor)\\n              RETURN neighbor.id + ' - ' + type(r) + ' -> ' +  node.id AS output\\n            }\\n            RETURN output LIMIT 50\\n            \"\n"
          ]
        },
        {
          "name": "stdout",
          "output_type": "stream",
          "text": [
            "Robert Downey Jr. - CHILD_OF -> Robert Downey Sr.\n",
            "Robert Downey Jr. - BIRTH_PLACE -> Manhattan\n",
            "Robert Downey Jr. - BIRTH_PLACE -> New York City\n",
            "Robert Downey Jr. - PARENT -> Robert Downey Sr.\n",
            "Robert Downey Jr. - PARENT -> Elsie Ann (Née Ford)\n",
            "Robert Downey Jr. - BIRTH -> April 4, 1965\n",
            "Robert Downey Jr. - LIVED -> Woodstock\n",
            "Robert Downey Jr. - LIVED -> London\n",
            "Robert Downey Jr. - LIVED -> New Mexico\n",
            "Robert Downey Jr. - LIVED -> California\n",
            "Robert Downey Jr. - LIVED -> Connecticut\n",
            "Robert Downey Jr. - LIVED -> Greenwich Village\n",
            "Robert Downey Jr. - APPEARED_IN -> Pound (1970)\n",
            "Robert Downey Jr. - APPEARED_IN -> Greaser'S Palace (1972)\n",
            "Robert Downey Jr. - ACTED_IN -> Pound\n",
            "Robert Downey Jr. - ACTED_IN -> Weird Science\n",
            "Robert Downey Jr. - ACTED_IN -> Back To School\n",
            "Robert Downey Jr. - ACTED_IN -> Less Than Zero\n",
            "Robert Downey Jr. - ACTED_IN -> Johnny Be Good\n",
            "Robert Downey Jr. - ACTED_IN -> True Believer\n",
            "Robert Downey Jr. - ACTED_IN -> Chances Are\n",
            "Robert Downey Jr. - ACTED_IN -> Air America\n",
            "Robert Downey Jr. - ACTED_IN -> Soapdish\n",
            "Robert Downey Jr. - ACTED_IN -> Chaplin\n",
            "Robert Downey Jr. - ACTED_IN -> Short Cuts\n",
            "Robert Downey Jr. - ACTED_IN -> Richard Iii\n",
            "Robert Downey Jr. - ACTED_IN -> U.S. Marshals\n",
            "Robert Downey Jr. - ACTED_IN -> The Singing Detective\n",
            "Robert Downey Jr. - ACTED_IN -> Gothika\n",
            "Robert Downey Jr. - ACTED_IN -> Kiss Kiss Bang Bang\n",
            "Robert Downey Jr. - ACTED_IN -> Good Night, And Good Luck\n",
            "Robert Downey Jr. - ACTED_IN -> A Scanner Darkly\n",
            "Robert Downey Jr. - ACTED_IN -> Zodiac\n",
            "Robert Downey Jr. - ACTED_IN -> Tropic Thunder\n",
            "Robert Downey Jr. - ACTED_IN -> The Soloist\n",
            "Robert Downey Jr. - ACTED_IN -> Sherlock Holmes\n",
            "Robert Downey Jr. - ACTED_IN -> Sherlock Holmes: A Game Of Shadows\n",
            "Robert Downey Jr. - ACTED_IN -> Iron Man\n",
            "Robert Downey Jr. - ACTED_IN -> Iron Man 2\n",
            "Robert Downey Jr. - ACTED_IN -> The Avengers\n",
            "Robert Downey Jr. - ACTED_IN -> Iron Man 3\n",
            "Robert Downey Jr. - ACTED_IN -> Avengers: Age Of Ultron\n",
            "Robert Downey Jr. - ACTED_IN -> Captain America: Civil War\n",
            "Robert Downey Jr. - ACTED_IN -> Spider-Man: Homecoming\n",
            "Robert Downey Jr. - ACTED_IN -> Avengers: Infinity War\n",
            "Robert Downey Jr. - ACTED_IN -> Avengers: Endgame\n",
            "Robert Downey Jr. - ACTED_IN -> Up The Academy\n",
            "Robert Downey Jr. - ACTED_IN -> Hail Caesar\n",
            "Robert Downey Jr. - CAST_MEMBER -> Saturday Night Live\n",
            "Robert Downey Jr. - ACTED_IN_FILM_WITH -> Julianne Moore\n"
          ]
        }
      ],
      "source": [
        "print(structured_retriever(\"Who is Robert Downey Jr.?\"))"
      ]
    },
    {
      "cell_type": "markdown",
      "metadata": {
        "id": "2g0Zc_Oyfeet"
      },
      "source": [
        "### Retrival function"
      ]
    },
    {
      "cell_type": "code",
      "execution_count": 88,
      "metadata": {
        "id": "hd3xHaU1TfSB"
      },
      "outputs": [],
      "source": [
        "# Define a combined retriever function that merges structured and unstructured data\n",
        "def retriever(question: str):\n",
        "    print(f\"Search query: {question}\")\n",
        "    structured_data = structured_retriever(question)\n",
        "    unstructured_data = [el.page_content for el in vector_index.similarity_search(question)]\n",
        "    final_data = f\"\"\"Structured data:\n",
        "{structured_data}\n",
        "Unstructured data:\n",
        "{\"#Document \".join(unstructured_data)}\n",
        "    \"\"\"\n",
        "    return final_data"
      ]
    },
    {
      "cell_type": "code",
      "execution_count": 89,
      "metadata": {
        "id": "HLCuVgf7TfPZ"
      },
      "outputs": [],
      "source": [
        "# Define template for standalone question generation from chat history\n",
        "_template = \"\"\"Given the following conversation and a follow up question, rephrase the follow up question to be a standalone question,\n",
        "in its original language.\n",
        "Chat History:\n",
        "{chat_history}\n",
        "Follow Up Input: {question}\n",
        "Standalone question:\"\"\""
      ]
    },
    {
      "cell_type": "code",
      "execution_count": 90,
      "metadata": {
        "id": "WUvSlzBXTfMx"
      },
      "outputs": [],
      "source": [
        "# Create a prompt template for question condensation\n",
        "CONDENSE_QUESTION_PROMPT = PromptTemplate.from_template(_template)"
      ]
    },
    {
      "cell_type": "code",
      "execution_count": 91,
      "metadata": {
        "id": "K6TjCkiLTfJ4"
      },
      "outputs": [],
      "source": [
        "# Helper function to format chat history into a list of messages\n",
        "def _format_chat_history(chat_history: List[Tuple[str, str]]) -> List:\n",
        "    buffer = []\n",
        "    for human, ai in chat_history:\n",
        "        buffer.append(HumanMessage(content=human))\n",
        "        buffer.append(AIMessage(content=ai))\n",
        "    return buffer\n",
        "\n",
        "# Create a branching search query processor\n",
        "# Handles both cases: with and without chat history\n",
        "_search_query = RunnableBranch(\n",
        "    # If chat history exists, condense it with the follow-up question\n",
        "    (\n",
        "        RunnableLambda(lambda x: bool(x.get(\"chat_history\"))).with_config(\n",
        "            run_name=\"HasChatHistoryCheck\"\n",
        "        ),\n",
        "        RunnablePassthrough.assign(\n",
        "            chat_history=lambda x: _format_chat_history(x[\"chat_history\"])\n",
        "        )\n",
        "        | CONDENSE_QUESTION_PROMPT\n",
        "        | ChatGroq(\n",
        "            temperature=0,\n",
        "            groq_api_key=\"GROQ_API_KEY\",\n",
        "            model_name=\"mixtral-8x7b-32768\"\n",
        "        )\n",
        "        | StrOutputParser(),\n",
        "    ),\n",
        "    # If no chat history, use the question as is\n",
        "    RunnableLambda(lambda x : x[\"question\"]),\n",
        ")"
      ]
    },
    {
      "cell_type": "code",
      "execution_count": 93,
      "metadata": {
        "id": "W-pelQ-0TfB5"
      },
      "outputs": [],
      "source": [
        "# Define the template for answer generation\n",
        "template = \"\"\"Answer the question based only on the following context:\n",
        "{context}\n",
        "\n",
        "Question: {question}\n",
        "Use natural language and be concise.\n",
        "Answer:\"\"\"\n",
        "\n",
        "# Create a chat prompt template from the answer template\n",
        "prompt = ChatPromptTemplate.from_template(template)\n",
        "\n",
        "# Build the final chain combining search, context retrieval, and answer generation\n",
        "chain = (\n",
        "    RunnableParallel(\n",
        "        {\n",
        "            \"context\": _search_query | retriever,\n",
        "            \"question\": RunnablePassthrough(),\n",
        "        }\n",
        "    )\n",
        "    | prompt\n",
        "    | llm\n",
        "    | StrOutputParser()\n",
        ")"
      ]
    },
    {
      "cell_type": "markdown",
      "metadata": {
        "id": "oVpUnPiTeq7V"
      },
      "source": [
        "### Some Example queries"
      ]
    },
    {
      "cell_type": "code",
      "execution_count": 98,
      "metadata": {
        "colab": {
          "base_uri": "https://localhost:8080/",
          "height": 108
        },
        "id": "6sSjPUxqpOJ4",
        "outputId": "287a1b1f-816c-4f42-effb-21ba526c74cf"
      },
      "outputs": [
        {
          "name": "stdout",
          "output_type": "stream",
          "text": [
            "Search query: When and where was Robert Downey Jr. born?\n"
          ]
        },
        {
          "name": "stderr",
          "output_type": "stream",
          "text": [
            "WARNING:neo4j.notifications:Received notification from DBMS server: {severity: WARNING} {code: Neo.ClientNotification.Statement.FeatureDeprecationWarning} {category: DEPRECATION} {title: This feature is deprecated and will be removed in future versions.} {description: CALL subquery without a variable scope clause is now deprecated. Use CALL (node, node) { ... }} {position: line: 3, column: 13, offset: 104} for query: \"CALL db.index.fulltext.queryNodes('entity', $query, {limit:2})\\n            YIELD node,score\\n            CALL {\\n              WITH node\\n              MATCH (node)-[r:!MENTIONS]->(neighbor)\\n              RETURN node.id + ' - ' + type(r) + ' -> ' + neighbor.id AS output\\n              UNION ALL\\n              WITH node\\n              MATCH (node)<-[r:!MENTIONS]-(neighbor)\\n              RETURN neighbor.id + ' - ' + type(r) + ' -> ' +  node.id AS output\\n            }\\n            RETURN output LIMIT 50\\n            \"\n",
            "WARNING:neo4j.notifications:Received notification from DBMS server: {severity: WARNING} {code: Neo.ClientNotification.Statement.FeatureDeprecationWarning} {category: DEPRECATION} {title: This feature is deprecated and will be removed in future versions.} {description: CALL subquery without a variable scope clause is now deprecated. Use CALL () { ... }} {position: line: 1, column: 1, offset: 0} for query: \"CALL { CALL db.index.vector.queryNodes($index, $k, $embedding) YIELD node, score WITH collect({node:node, score:score}) AS nodes, max(score) AS max UNWIND nodes AS n RETURN n.node AS node, (n.score / max) AS score UNION CALL db.index.fulltext.queryNodes($keyword_index, $query, {limit: $k}) YIELD node, score WITH collect({node:node, score:score}) AS nodes, max(score) AS max UNWIND nodes AS n RETURN n.node AS node, (n.score / max) AS score } WITH node, max(score) AS score ORDER BY score DESC LIMIT $k RETURN reduce(str='', k IN ['text'] | str + '\\\\n' + k + ': ' + coalesce(node[k], '')) AS text, node {.*, `embedding`: Null, id: Null, `text`: Null} AS metadata, score\"\n"
          ]
        },
        {
          "data": {
            "application/vnd.google.colaboratory.intrinsic+json": {
              "type": "string"
            },
            "text/plain": [
              "'Robert Downey Jr. was born on April 4, 1965, in Manhattan, New York City.'"
            ]
          },
          "execution_count": 98,
          "metadata": {},
          "output_type": "execute_result"
        }
      ],
      "source": [
        "# Fact-based Queries\n",
        "chain.invoke({\"question\": \"When and where was Robert Downey Jr. born?\"})\n",
        "\n"
      ]
    },
    {
      "cell_type": "code",
      "execution_count": 99,
      "metadata": {
        "colab": {
          "base_uri": "https://localhost:8080/",
          "height": 125
        },
        "id": "SYPVrdRYpY05",
        "outputId": "e7fb5657-d816-406d-f416-a5ffe9509250"
      },
      "outputs": [
        {
          "name": "stdout",
          "output_type": "stream",
          "text": [
            "Search query: Who are Robert Downey Jr.'s parents?\n"
          ]
        },
        {
          "name": "stderr",
          "output_type": "stream",
          "text": [
            "WARNING:neo4j.notifications:Received notification from DBMS server: {severity: WARNING} {code: Neo.ClientNotification.Statement.FeatureDeprecationWarning} {category: DEPRECATION} {title: This feature is deprecated and will be removed in future versions.} {description: CALL subquery without a variable scope clause is now deprecated. Use CALL (node, node) { ... }} {position: line: 3, column: 13, offset: 104} for query: \"CALL db.index.fulltext.queryNodes('entity', $query, {limit:2})\\n            YIELD node,score\\n            CALL {\\n              WITH node\\n              MATCH (node)-[r:!MENTIONS]->(neighbor)\\n              RETURN node.id + ' - ' + type(r) + ' -> ' + neighbor.id AS output\\n              UNION ALL\\n              WITH node\\n              MATCH (node)<-[r:!MENTIONS]-(neighbor)\\n              RETURN neighbor.id + ' - ' + type(r) + ' -> ' +  node.id AS output\\n            }\\n            RETURN output LIMIT 50\\n            \"\n",
            "WARNING:neo4j.notifications:Received notification from DBMS server: {severity: WARNING} {code: Neo.ClientNotification.Statement.FeatureDeprecationWarning} {category: DEPRECATION} {title: This feature is deprecated and will be removed in future versions.} {description: CALL subquery without a variable scope clause is now deprecated. Use CALL (node, node) { ... }} {position: line: 3, column: 13, offset: 104} for query: \"CALL db.index.fulltext.queryNodes('entity', $query, {limit:2})\\n            YIELD node,score\\n            CALL {\\n              WITH node\\n              MATCH (node)-[r:!MENTIONS]->(neighbor)\\n              RETURN node.id + ' - ' + type(r) + ' -> ' + neighbor.id AS output\\n              UNION ALL\\n              WITH node\\n              MATCH (node)<-[r:!MENTIONS]-(neighbor)\\n              RETURN neighbor.id + ' - ' + type(r) + ' -> ' +  node.id AS output\\n            }\\n            RETURN output LIMIT 50\\n            \"\n",
            "WARNING:neo4j.notifications:Received notification from DBMS server: {severity: WARNING} {code: Neo.ClientNotification.Statement.FeatureDeprecationWarning} {category: DEPRECATION} {title: This feature is deprecated and will be removed in future versions.} {description: CALL subquery without a variable scope clause is now deprecated. Use CALL () { ... }} {position: line: 1, column: 1, offset: 0} for query: \"CALL { CALL db.index.vector.queryNodes($index, $k, $embedding) YIELD node, score WITH collect({node:node, score:score}) AS nodes, max(score) AS max UNWIND nodes AS n RETURN n.node AS node, (n.score / max) AS score UNION CALL db.index.fulltext.queryNodes($keyword_index, $query, {limit: $k}) YIELD node, score WITH collect({node:node, score:score}) AS nodes, max(score) AS max UNWIND nodes AS n RETURN n.node AS node, (n.score / max) AS score } WITH node, max(score) AS score ORDER BY score DESC LIMIT $k RETURN reduce(str='', k IN ['text'] | str + '\\\\n' + k + ': ' + coalesce(node[k], '')) AS text, node {.*, `embedding`: Null, id: Null, `text`: Null} AS metadata, score\"\n"
          ]
        },
        {
          "data": {
            "application/vnd.google.colaboratory.intrinsic+json": {
              "type": "string"
            },
            "text/plain": [
              "\"Robert Downey Jr.'s parents are Robert Downey Sr. and Elsie Ann (Née Ford).\""
            ]
          },
          "execution_count": 99,
          "metadata": {},
          "output_type": "execute_result"
        }
      ],
      "source": [
        "# Relationship Queries\n",
        "chain.invoke({\"question\": \"Who are Robert Downey Jr.'s parents?\"})\n"
      ]
    },
    {
      "cell_type": "code",
      "execution_count": 100,
      "metadata": {
        "colab": {
          "base_uri": "https://localhost:8080/",
          "height": 125
        },
        "id": "56WLJnblpYyG",
        "outputId": "4d600248-0970-4a7b-c036-aa4824f3d7a5"
      },
      "outputs": [
        {
          "name": "stdout",
          "output_type": "stream",
          "text": [
            "Search query: What is the name of Robert Downey Jr.'s wife?\n"
          ]
        },
        {
          "name": "stderr",
          "output_type": "stream",
          "text": [
            "WARNING:neo4j.notifications:Received notification from DBMS server: {severity: WARNING} {code: Neo.ClientNotification.Statement.FeatureDeprecationWarning} {category: DEPRECATION} {title: This feature is deprecated and will be removed in future versions.} {description: CALL subquery without a variable scope clause is now deprecated. Use CALL (node, node) { ... }} {position: line: 3, column: 13, offset: 104} for query: \"CALL db.index.fulltext.queryNodes('entity', $query, {limit:2})\\n            YIELD node,score\\n            CALL {\\n              WITH node\\n              MATCH (node)-[r:!MENTIONS]->(neighbor)\\n              RETURN node.id + ' - ' + type(r) + ' -> ' + neighbor.id AS output\\n              UNION ALL\\n              WITH node\\n              MATCH (node)<-[r:!MENTIONS]-(neighbor)\\n              RETURN neighbor.id + ' - ' + type(r) + ' -> ' +  node.id AS output\\n            }\\n            RETURN output LIMIT 50\\n            \"\n",
            "WARNING:neo4j.notifications:Received notification from DBMS server: {severity: WARNING} {code: Neo.ClientNotification.Statement.FeatureDeprecationWarning} {category: DEPRECATION} {title: This feature is deprecated and will be removed in future versions.} {description: CALL subquery without a variable scope clause is now deprecated. Use CALL (node, node) { ... }} {position: line: 3, column: 13, offset: 104} for query: \"CALL db.index.fulltext.queryNodes('entity', $query, {limit:2})\\n            YIELD node,score\\n            CALL {\\n              WITH node\\n              MATCH (node)-[r:!MENTIONS]->(neighbor)\\n              RETURN node.id + ' - ' + type(r) + ' -> ' + neighbor.id AS output\\n              UNION ALL\\n              WITH node\\n              MATCH (node)<-[r:!MENTIONS]-(neighbor)\\n              RETURN neighbor.id + ' - ' + type(r) + ' -> ' +  node.id AS output\\n            }\\n            RETURN output LIMIT 50\\n            \"\n",
            "WARNING:neo4j.notifications:Received notification from DBMS server: {severity: WARNING} {code: Neo.ClientNotification.Statement.FeatureDeprecationWarning} {category: DEPRECATION} {title: This feature is deprecated and will be removed in future versions.} {description: CALL subquery without a variable scope clause is now deprecated. Use CALL () { ... }} {position: line: 1, column: 1, offset: 0} for query: \"CALL { CALL db.index.vector.queryNodes($index, $k, $embedding) YIELD node, score WITH collect({node:node, score:score}) AS nodes, max(score) AS max UNWIND nodes AS n RETURN n.node AS node, (n.score / max) AS score UNION CALL db.index.fulltext.queryNodes($keyword_index, $query, {limit: $k}) YIELD node, score WITH collect({node:node, score:score}) AS nodes, max(score) AS max UNWIND nodes AS n RETURN n.node AS node, (n.score / max) AS score } WITH node, max(score) AS score ORDER BY score DESC LIMIT $k RETURN reduce(str='', k IN ['text'] | str + '\\\\n' + k + ': ' + coalesce(node[k], '')) AS text, node {.*, `embedding`: Null, id: Null, `text`: Null} AS metadata, score\"\n"
          ]
        },
        {
          "data": {
            "application/vnd.google.colaboratory.intrinsic+json": {
              "type": "string"
            },
            "text/plain": [
              "'Robert Downey Jr. has been married three times. His first wife was Elsie Ann Ford, his second wife was Laura Ernst, and his third wife is Rosemary Rogers.'"
            ]
          },
          "execution_count": 100,
          "metadata": {},
          "output_type": "execute_result"
        }
      ],
      "source": [
        "chain.invoke({\"question\": \"What is the name of Robert Downey Jr.'s wife?\"})\n",
        "\n",
        "\n",
        "\n"
      ]
    },
    {
      "cell_type": "code",
      "execution_count": 101,
      "metadata": {
        "colab": {
          "base_uri": "https://localhost:8080/",
          "height": 125
        },
        "id": "jAsPIi8dpYvX",
        "outputId": "ba8135ba-fba5-46b9-afd3-f7b9cc083158"
      },
      "outputs": [
        {
          "name": "stdout",
          "output_type": "stream",
          "text": [
            "Search query: What was Robert Downey Jr.'s relationship with substance abuse?\n"
          ]
        },
        {
          "name": "stderr",
          "output_type": "stream",
          "text": [
            "WARNING:neo4j.notifications:Received notification from DBMS server: {severity: WARNING} {code: Neo.ClientNotification.Statement.FeatureDeprecationWarning} {category: DEPRECATION} {title: This feature is deprecated and will be removed in future versions.} {description: CALL subquery without a variable scope clause is now deprecated. Use CALL (node, node) { ... }} {position: line: 3, column: 13, offset: 104} for query: \"CALL db.index.fulltext.queryNodes('entity', $query, {limit:2})\\n            YIELD node,score\\n            CALL {\\n              WITH node\\n              MATCH (node)-[r:!MENTIONS]->(neighbor)\\n              RETURN node.id + ' - ' + type(r) + ' -> ' + neighbor.id AS output\\n              UNION ALL\\n              WITH node\\n              MATCH (node)<-[r:!MENTIONS]-(neighbor)\\n              RETURN neighbor.id + ' - ' + type(r) + ' -> ' +  node.id AS output\\n            }\\n            RETURN output LIMIT 50\\n            \"\n",
            "WARNING:neo4j.notifications:Received notification from DBMS server: {severity: WARNING} {code: Neo.ClientNotification.Statement.FeatureDeprecationWarning} {category: DEPRECATION} {title: This feature is deprecated and will be removed in future versions.} {description: CALL subquery without a variable scope clause is now deprecated. Use CALL () { ... }} {position: line: 1, column: 1, offset: 0} for query: \"CALL { CALL db.index.vector.queryNodes($index, $k, $embedding) YIELD node, score WITH collect({node:node, score:score}) AS nodes, max(score) AS max UNWIND nodes AS n RETURN n.node AS node, (n.score / max) AS score UNION CALL db.index.fulltext.queryNodes($keyword_index, $query, {limit: $k}) YIELD node, score WITH collect({node:node, score:score}) AS nodes, max(score) AS max UNWIND nodes AS n RETURN n.node AS node, (n.score / max) AS score } WITH node, max(score) AS score ORDER BY score DESC LIMIT $k RETURN reduce(str='', k IN ['text'] | str + '\\\\n' + k + ': ' + coalesce(node[k], '')) AS text, node {.*, `embedding`: Null, id: Null, `text`: Null} AS metadata, score\"\n"
          ]
        },
        {
          "data": {
            "application/vnd.google.colaboratory.intrinsic+json": {
              "type": "string"
            },
            "text/plain": [
              "'Robert Downey Jr. struggled with substance abuse and had multiple run-ins with the law due to drug charges. He spent time at the Corcoran Substance Abuse Treatment Facility and underwent a court-ordered drug treatment program. He has maintained his sobriety since 2003.'"
            ]
          },
          "execution_count": 101,
          "metadata": {},
          "output_type": "execute_result"
        }
      ],
      "source": [
        "# Complex Relationship Queries\n",
        "chain.invoke({\"question\": \"What was Robert Downey Jr.'s relationship with substance abuse?\"})\n",
        "\n",
        "\n"
      ]
    },
    {
      "cell_type": "code",
      "execution_count": 102,
      "metadata": {
        "colab": {
          "base_uri": "https://localhost:8080/",
          "height": 108
        },
        "id": "NASdaOL-pYsg",
        "outputId": "a7c786fe-7eff-4713-d54f-dd98697cfb66"
      },
      "outputs": [
        {
          "name": "stdout",
          "output_type": "stream",
          "text": [
            "Search query: What is Robert Downey Jr.'s ethnicity?\n"
          ]
        },
        {
          "name": "stderr",
          "output_type": "stream",
          "text": [
            "WARNING:neo4j.notifications:Received notification from DBMS server: {severity: WARNING} {code: Neo.ClientNotification.Statement.FeatureDeprecationWarning} {category: DEPRECATION} {title: This feature is deprecated and will be removed in future versions.} {description: CALL subquery without a variable scope clause is now deprecated. Use CALL (node, node) { ... }} {position: line: 3, column: 13, offset: 104} for query: \"CALL db.index.fulltext.queryNodes('entity', $query, {limit:2})\\n            YIELD node,score\\n            CALL {\\n              WITH node\\n              MATCH (node)-[r:!MENTIONS]->(neighbor)\\n              RETURN node.id + ' - ' + type(r) + ' -> ' + neighbor.id AS output\\n              UNION ALL\\n              WITH node\\n              MATCH (node)<-[r:!MENTIONS]-(neighbor)\\n              RETURN neighbor.id + ' - ' + type(r) + ' -> ' +  node.id AS output\\n            }\\n            RETURN output LIMIT 50\\n            \"\n",
            "WARNING:neo4j.notifications:Received notification from DBMS server: {severity: WARNING} {code: Neo.ClientNotification.Statement.FeatureDeprecationWarning} {category: DEPRECATION} {title: This feature is deprecated and will be removed in future versions.} {description: CALL subquery without a variable scope clause is now deprecated. Use CALL () { ... }} {position: line: 1, column: 1, offset: 0} for query: \"CALL { CALL db.index.vector.queryNodes($index, $k, $embedding) YIELD node, score WITH collect({node:node, score:score}) AS nodes, max(score) AS max UNWIND nodes AS n RETURN n.node AS node, (n.score / max) AS score UNION CALL db.index.fulltext.queryNodes($keyword_index, $query, {limit: $k}) YIELD node, score WITH collect({node:node, score:score}) AS nodes, max(score) AS max UNWIND nodes AS n RETURN n.node AS node, (n.score / max) AS score } WITH node, max(score) AS score ORDER BY score DESC LIMIT $k RETURN reduce(str='', k IN ['text'] | str + '\\\\n' + k + ': ' + coalesce(node[k], '')) AS text, node {.*, `embedding`: Null, id: Null, `text`: Null} AS metadata, score\"\n"
          ]
        },
        {
          "data": {
            "application/vnd.google.colaboratory.intrinsic+json": {
              "type": "string"
            },
            "text/plain": [
              "'Robert Downey Jr. is of American ethnicity.'"
            ]
          },
          "execution_count": 102,
          "metadata": {},
          "output_type": "execute_result"
        }
      ],
      "source": [
        "chain.invoke({\"question\": \"What is Robert Downey Jr.'s ethnicity?\"})"
      ]
    },
    {
      "cell_type": "code",
      "execution_count": 103,
      "metadata": {
        "colab": {
          "base_uri": "https://localhost:8080/",
          "height": 177
        },
        "id": "MtoIWXhppYqB",
        "outputId": "ebba7f78-520f-4ef8-dc22-4ff4d7de8ed3"
      },
      "outputs": [
        {
          "name": "stdout",
          "output_type": "stream",
          "text": [
            "Search query: How did Robert Downey Jr.'s career evolve after overcoming addiction?\n"
          ]
        },
        {
          "name": "stderr",
          "output_type": "stream",
          "text": [
            "WARNING:neo4j.notifications:Received notification from DBMS server: {severity: WARNING} {code: Neo.ClientNotification.Statement.FeatureDeprecationWarning} {category: DEPRECATION} {title: This feature is deprecated and will be removed in future versions.} {description: CALL subquery without a variable scope clause is now deprecated. Use CALL (node, node) { ... }} {position: line: 3, column: 13, offset: 104} for query: \"CALL db.index.fulltext.queryNodes('entity', $query, {limit:2})\\n            YIELD node,score\\n            CALL {\\n              WITH node\\n              MATCH (node)-[r:!MENTIONS]->(neighbor)\\n              RETURN node.id + ' - ' + type(r) + ' -> ' + neighbor.id AS output\\n              UNION ALL\\n              WITH node\\n              MATCH (node)<-[r:!MENTIONS]-(neighbor)\\n              RETURN neighbor.id + ' - ' + type(r) + ' -> ' +  node.id AS output\\n            }\\n            RETURN output LIMIT 50\\n            \"\n",
            "WARNING:neo4j.notifications:Received notification from DBMS server: {severity: WARNING} {code: Neo.ClientNotification.Statement.FeatureDeprecationWarning} {category: DEPRECATION} {title: This feature is deprecated and will be removed in future versions.} {description: CALL subquery without a variable scope clause is now deprecated. Use CALL () { ... }} {position: line: 1, column: 1, offset: 0} for query: \"CALL { CALL db.index.vector.queryNodes($index, $k, $embedding) YIELD node, score WITH collect({node:node, score:score}) AS nodes, max(score) AS max UNWIND nodes AS n RETURN n.node AS node, (n.score / max) AS score UNION CALL db.index.fulltext.queryNodes($keyword_index, $query, {limit: $k}) YIELD node, score WITH collect({node:node, score:score}) AS nodes, max(score) AS max UNWIND nodes AS n RETURN n.node AS node, (n.score / max) AS score } WITH node, max(score) AS score ORDER BY score DESC LIMIT $k RETURN reduce(str='', k IN ['text'] | str + '\\\\n' + k + ': ' + coalesce(node[k], '')) AS text, node {.*, `embedding`: Null, id: Null, `text`: Null} AS metadata, score\"\n"
          ]
        },
        {
          "data": {
            "application/vnd.google.colaboratory.intrinsic+json": {
              "type": "string"
            },
            "text/plain": [
              "\"After overcoming addiction, Robert Downey Jr. made his acting comeback in the 2003 film The Singing Detective. He then starred in several successful films, including the black comedy Kiss Kiss Bang Bang (2005), the thriller Zodiac (2007), and the action comedy Tropic Thunder (2008). Downey gained global recognition for his role as Iron Man in ten Marvel Cinematic Universe films, from Iron Man (2008) to Avengers: Endgame (2019). He also played Sherlock Holmes in Guy Ritchie's Sherlock Holmes (2009) and its 2011 sequel. Downey has taken on dramatic parts in films like The Judge (2014) and Oppenheimer (2023), earning an Academy Award, a Golden Globe, and a BAFTA Award for his role in Oppenheimer. He was also nominated for a Primetime Emmy Award for his work in the black comedy miniseries The Sympathizer (2024) and made his Broadway debut in 2024.\""
            ]
          },
          "execution_count": 103,
          "metadata": {},
          "output_type": "execute_result"
        }
      ],
      "source": [
        "# Concept-based Query\n",
        "chain.invoke({\"question\": \"How did Robert Downey Jr.'s career evolve after overcoming addiction?\"})"
      ]
    },
    {
      "cell_type": "code",
      "execution_count": null,
      "metadata": {
        "id": "6rwVTiGwpjM0"
      },
      "outputs": [],
      "source": []
    }
  ],
  "metadata": {
    "colab": {
      "collapsed_sections": [
        "FrL2j4C7bfRs",
        "ikcOdO8OU2ss",
        "Q91wb7vaU6k-",
        "tqQ7TYRfU8ze"
      ],
      "provenance": []
    },
    "kernelspec": {
      "display_name": "Python 3",
      "name": "python3"
    },
    "language_info": {
      "name": "python"
    },
    "widgets": {
      "application/vnd.jupyter.widget-state+json": {
        "220ba0a796704746977c7db60c46e44f": {
          "model_module": "yfiles-jupyter-graphs",
          "model_module_version": "^1.10.1",
          "model_name": "GraphModel",
          "state": {
            "_context_pane_mapping": [
              {
                "id": "Neighborhood",
                "title": "Neighborhood"
              },
              {
                "id": "Data",
                "title": "Data"
              },
              {
                "id": "Search",
                "title": "Search"
              },
              {
                "id": "About",
                "title": "About"
              }
            ],
            "_data_importer": "neo4j",
            "_directed": true,
            "_dom_classes": [],
            "_edges": [
              {
                "color": "#2196F3",
                "directed": true,
                "end": 2,
                "id": 1152922604118474800,
                "label": "QUEEN_OF",
                "properties": {
                  "label": "QUEEN_OF"
                },
                "start": 1,
                "styles": {},
                "thickness_factor": 1
              },
              {
                "color": "#4CAF50",
                "directed": true,
                "end": 3,
                "id": 1152923703630102500,
                "label": "LAST_AND_LONGEST_REIGNING_MONARCH_OF",
                "properties": {
                  "label": "LAST_AND_LONGEST_REIGNING_MONARCH_OF"
                },
                "start": 1,
                "styles": {},
                "thickness_factor": 1
              },
              {
                "color": "#F44336",
                "directed": true,
                "end": 4,
                "id": 1152924803141730300,
                "label": "CHILD_OF",
                "properties": {
                  "label": "CHILD_OF"
                },
                "start": 1,
                "styles": {},
                "thickness_factor": 1
              },
              {
                "color": "#607D8B",
                "directed": true,
                "end": 5,
                "id": 1152925902653358000,
                "label": "MOTHER_OF",
                "properties": {
                  "label": "MOTHER_OF"
                },
                "start": 1,
                "styles": {},
                "thickness_factor": 1
              },
              {
                "color": "#673AB7",
                "directed": true,
                "end": 6,
                "id": 1152927002164985900,
                "label": "SIBLING_OF",
                "properties": {
                  "label": "SIBLING_OF"
                },
                "start": 1,
                "styles": {},
                "thickness_factor": 1
              },
              {
                "color": "#673AB7",
                "directed": true,
                "end": 8,
                "id": 1155178801978671000,
                "label": "SIBLING_OF",
                "properties": {
                  "label": "SIBLING_OF"
                },
                "start": 1,
                "styles": {},
                "thickness_factor": 1
              },
              {
                "color": "#CDDC39",
                "directed": true,
                "end": 9,
                "id": 1152930300699869200,
                "label": "SUCCESSOR_OF",
                "properties": {
                  "label": "SUCCESSOR_OF"
                },
                "start": 1,
                "styles": {},
                "thickness_factor": 1
              },
              {
                "color": "#9E9E9E",
                "directed": true,
                "end": 11,
                "id": 1152932499723124700,
                "label": "DEPENDENT_ON",
                "properties": {
                  "label": "DEPENDENT_ON"
                },
                "start": 1,
                "styles": {},
                "thickness_factor": 1
              },
              {
                "color": "#9C27B0",
                "directed": true,
                "end": 14,
                "id": 1152933599234752500,
                "label": "ESTABLISHED",
                "properties": {
                  "label": "ESTABLISHED"
                },
                "start": 1,
                "styles": {},
                "thickness_factor": 1
              },
              {
                "color": "#2196F3",
                "directed": true,
                "end": 13,
                "id": 1152934698746380300,
                "label": "RELATED_TO",
                "properties": {
                  "label": "RELATED_TO"
                },
                "start": 1,
                "styles": {},
                "thickness_factor": 1
              },
              {
                "color": "#4CAF50",
                "directed": true,
                "end": 12,
                "id": 1152935798258008000,
                "label": "EVOLVED_INTO",
                "properties": {
                  "label": "EVOLVED_INTO"
                },
                "start": 1,
                "styles": {},
                "thickness_factor": 1
              },
              {
                "color": "#F44336",
                "directed": true,
                "end": 15,
                "id": 1152936897769635800,
                "label": "MOTTO_OF",
                "properties": {
                  "label": "MOTTO_OF"
                },
                "start": 1,
                "styles": {},
                "thickness_factor": 1
              },
              {
                "color": "#607D8B",
                "directed": true,
                "end": 16,
                "id": 1152937997281263600,
                "label": "PROTECTED_BY",
                "properties": {
                  "label": "PROTECTED_BY"
                },
                "start": 1,
                "styles": {},
                "thickness_factor": 1
              },
              {
                "color": "#673AB7",
                "directed": true,
                "end": 63,
                "id": 6917551017873637000,
                "label": "RULER_OF",
                "properties": {
                  "label": "RULER_OF"
                },
                "start": 1,
                "styles": {},
                "thickness_factor": 1
              },
              {
                "color": "#CDDC39",
                "directed": true,
                "end": 64,
                "id": 6917573008106193000,
                "label": "SAT_FOR",
                "properties": {
                  "label": "SAT_FOR"
                },
                "start": 1,
                "styles": {},
                "thickness_factor": 1
              },
              {
                "color": "#CDDC39",
                "directed": true,
                "end": 67,
                "id": 6917573008106193000,
                "label": "SAT_FOR",
                "properties": {
                  "label": "SAT_FOR"
                },
                "start": 1,
                "styles": {},
                "thickness_factor": 1
              },
              {
                "color": "#CDDC39",
                "directed": true,
                "end": 68,
                "id": 6917573008106193000,
                "label": "SAT_FOR",
                "properties": {
                  "label": "SAT_FOR"
                },
                "start": 1,
                "styles": {},
                "thickness_factor": 1
              },
              {
                "color": "#CDDC39",
                "directed": true,
                "end": 69,
                "id": 6917573008106193000,
                "label": "SAT_FOR",
                "properties": {
                  "label": "SAT_FOR"
                },
                "start": 1,
                "styles": {},
                "thickness_factor": 1
              },
              {
                "color": "#CDDC39",
                "directed": true,
                "end": 70,
                "id": 6917573008106193000,
                "label": "SAT_FOR",
                "properties": {
                  "label": "SAT_FOR"
                },
                "start": 1,
                "styles": {},
                "thickness_factor": 1
              },
              {
                "color": "#9E9E9E",
                "directed": true,
                "end": 80,
                "id": 6917580704687587000,
                "label": "RECEIVED_AS",
                "properties": {
                  "label": "RECEIVED_AS"
                },
                "start": 1,
                "styles": {},
                "thickness_factor": 1
              },
              {
                "color": "#9C27B0",
                "directed": true,
                "end": 81,
                "id": 6917581804199215000,
                "label": "SHOWED_TO",
                "properties": {
                  "label": "SHOWED_TO"
                },
                "start": 1,
                "styles": {},
                "thickness_factor": 1
              },
              {
                "color": "#2196F3",
                "directed": true,
                "end": 86,
                "id": 6917587301757354000,
                "label": "SYMBOL_OF",
                "properties": {
                  "label": "SYMBOL_OF"
                },
                "start": 1,
                "styles": {},
                "thickness_factor": 1
              },
              {
                "color": "#4CAF50",
                "directed": true,
                "end": 7,
                "id": 1152928101676613600,
                "label": "BEQUEATHED_CROWN_TO",
                "properties": {
                  "label": "BEQUEATHED_CROWN_TO"
                },
                "start": 6,
                "styles": {},
                "thickness_factor": 1
              },
              {
                "color": "#F44336",
                "directed": true,
                "end": 7,
                "id": 1152929201188241400,
                "label": "DEPOSED_AND_EXECUTED",
                "properties": {
                  "label": "DEPOSED_AND_EXECUTED"
                },
                "start": 8,
                "styles": {},
                "thickness_factor": 1
              },
              {
                "color": "#607D8B",
                "directed": true,
                "end": 9,
                "id": 1152931400211497000,
                "label": "PARENT_OF",
                "properties": {
                  "label": "PARENT_OF"
                },
                "start": 10,
                "styles": {},
                "thickness_factor": 1
              },
              {
                "color": "#673AB7",
                "directed": true,
                "end": 1,
                "id": 1152939096792891400,
                "label": "DECLARED_ILLEGITIMATE",
                "properties": {
                  "label": "DECLARED_ILLEGITIMATE"
                },
                "start": 17,
                "styles": {},
                "thickness_factor": 1
              },
              {
                "color": "#CDDC39",
                "directed": true,
                "end": 1,
                "id": 1152940196304519200,
                "label": "MANOEUVRED_BETWEEN",
                "properties": {
                  "label": "MANOEUVRED_BETWEEN"
                },
                "start": 18,
                "styles": {},
                "thickness_factor": 1
              },
              {
                "color": "#F44336",
                "directed": true,
                "end": 22,
                "id": 1152924803141730300,
                "label": "CHILD_OF",
                "properties": {
                  "label": "CHILD_OF"
                },
                "start": 20,
                "styles": {},
                "thickness_factor": 1
              },
              {
                "color": "#9E9E9E",
                "directed": true,
                "end": 21,
                "id": 1152941295816147000,
                "label": "BIRTH_PLACE",
                "properties": {
                  "label": "BIRTH_PLACE"
                },
                "start": 20,
                "styles": {},
                "thickness_factor": 1
              },
              {
                "color": "#9C27B0",
                "directed": true,
                "end": 23,
                "id": 1152942395327774700,
                "label": "NAMED_AFTER",
                "properties": {
                  "label": "NAMED_AFTER"
                },
                "start": 20,
                "styles": {},
                "thickness_factor": 1
              },
              {
                "color": "#9C27B0",
                "directed": true,
                "end": 24,
                "id": 1155194195141460000,
                "label": "NAMED_AFTER",
                "properties": {
                  "label": "NAMED_AFTER"
                },
                "start": 20,
                "styles": {},
                "thickness_factor": 1
              },
              {
                "color": "#2196F3",
                "directed": true,
                "end": 91,
                "id": 1152986375792885800,
                "label": "MEMBER",
                "properties": {
                  "label": "MEMBER"
                },
                "start": 20,
                "styles": {},
                "thickness_factor": 1
              },
              {
                "color": "#673AB7",
                "directed": true,
                "end": 25,
                "id": 1152943494839402500,
                "label": "RULER_OF",
                "properties": {
                  "label": "RULER_OF"
                },
                "start": 22,
                "styles": {},
                "thickness_factor": 1
              },
              {
                "color": "#4CAF50",
                "directed": true,
                "end": 28,
                "id": 1152944594351030300,
                "label": "PARENT",
                "properties": {
                  "label": "PARENT"
                },
                "start": 27,
                "styles": {},
                "thickness_factor": 1
              },
              {
                "color": "#4CAF50",
                "directed": true,
                "end": 29,
                "id": 1155196394164715500,
                "label": "PARENT",
                "properties": {
                  "label": "PARENT"
                },
                "start": 27,
                "styles": {},
                "thickness_factor": 1
              },
              {
                "color": "#4CAF50",
                "directed": true,
                "end": 30,
                "id": 1157448193978400800,
                "label": "PARENT",
                "properties": {
                  "label": "PARENT"
                },
                "start": 27,
                "styles": {},
                "thickness_factor": 1
              },
              {
                "color": "#4CAF50",
                "directed": true,
                "end": 31,
                "id": 1159699993792086000,
                "label": "PARENT",
                "properties": {
                  "label": "PARENT"
                },
                "start": 27,
                "styles": {},
                "thickness_factor": 1
              },
              {
                "color": "#4CAF50",
                "directed": true,
                "end": 32,
                "id": 1161951793605771300,
                "label": "PARENT",
                "properties": {
                  "label": "PARENT"
                },
                "start": 27,
                "styles": {},
                "thickness_factor": 1
              },
              {
                "color": "#4CAF50",
                "directed": true,
                "end": 33,
                "id": 1164203593419456500,
                "label": "PARENT",
                "properties": {
                  "label": "PARENT"
                },
                "start": 27,
                "styles": {},
                "thickness_factor": 1
              },
              {
                "color": "#F44336",
                "directed": true,
                "end": 40,
                "id": 1152945693862658000,
                "label": "RULER",
                "properties": {
                  "label": "RULER"
                },
                "start": 27,
                "styles": {},
                "thickness_factor": 1
              },
              {
                "color": "#607D8B",
                "directed": true,
                "end": 34,
                "id": 1152946793374285800,
                "label": "ENCOURAGED_FOUNDATION",
                "properties": {
                  "label": "ENCOURAGED_FOUNDATION"
                },
                "start": 27,
                "styles": {},
                "thickness_factor": 1
              },
              {
                "color": "#607D8B",
                "directed": true,
                "end": 37,
                "id": 1157450393001656300,
                "label": "ENCOURAGED_FOUNDATION",
                "properties": {
                  "label": "ENCOURAGED_FOUNDATION"
                },
                "start": 27,
                "styles": {},
                "thickness_factor": 1
              },
              {
                "color": "#607D8B",
                "directed": true,
                "end": 47,
                "id": 1155198593187971000,
                "label": "ENCOURAGED_FOUNDATION",
                "properties": {
                  "label": "ENCOURAGED_FOUNDATION"
                },
                "start": 27,
                "styles": {},
                "thickness_factor": 1
              },
              {
                "color": "#607D8B",
                "directed": true,
                "end": 48,
                "id": 1159702192815341600,
                "label": "ENCOURAGED_FOUNDATION",
                "properties": {
                  "label": "ENCOURAGED_FOUNDATION"
                },
                "start": 27,
                "styles": {},
                "thickness_factor": 1
              },
              {
                "color": "#673AB7",
                "directed": true,
                "end": 36,
                "id": 1152947892885913600,
                "label": "FAVORITE_ARCHITECT",
                "properties": {
                  "label": "FAVORITE_ARCHITECT"
                },
                "start": 27,
                "styles": {},
                "thickness_factor": 1
              },
              {
                "color": "#CDDC39",
                "directed": true,
                "end": 44,
                "id": 1152948992397541400,
                "label": "FINANCED",
                "properties": {
                  "label": "FINANCED"
                },
                "start": 27,
                "styles": {},
                "thickness_factor": 1
              },
              {
                "color": "#CDDC39",
                "directed": true,
                "end": 45,
                "id": 1155200792211226600,
                "label": "FINANCED",
                "properties": {
                  "label": "FINANCED"
                },
                "start": 27,
                "styles": {},
                "thickness_factor": 1
              },
              {
                "color": "#CDDC39",
                "directed": true,
                "end": 46,
                "id": 1157452592024912000,
                "label": "FINANCED",
                "properties": {
                  "label": "FINANCED"
                },
                "start": 27,
                "styles": {},
                "thickness_factor": 1
              },
              {
                "color": "#9E9E9E",
                "directed": true,
                "end": 38,
                "id": 1152950091909169200,
                "label": "PARTICIPATED",
                "properties": {
                  "label": "PARTICIPATED"
                },
                "start": 27,
                "styles": {},
                "thickness_factor": 1
              },
              {
                "color": "#9E9E9E",
                "directed": true,
                "end": 39,
                "id": 1155201891722854400,
                "label": "PARTICIPATED",
                "properties": {
                  "label": "PARTICIPATED"
                },
                "start": 27,
                "styles": {},
                "thickness_factor": 1
              }
            ],
            "_graph_layout": {},
            "_highlight": [],
            "_license": {},
            "_model_module": "yfiles-jupyter-graphs",
            "_model_module_version": "^1.10.1",
            "_model_name": "GraphModel",
            "_neighborhood": {},
            "_nodes": [
              {
                "color": "#2196F3",
                "id": 1,
                "label": "Elizabeth I",
                "position": [
                  0,
                  0
                ],
                "properties": {
                  "id": "Elizabeth I",
                  "label": "__Entity__:Person"
                },
                "scale_factor": 1,
                "size": [
                  55,
                  55
                ],
                "styles": {},
                "type": "#2196F3"
              },
              {
                "color": "#4CAF50",
                "id": 2,
                "label": "England And Ireland",
                "position": [
                  0,
                  0
                ],
                "properties": {
                  "id": "England And Ireland",
                  "label": "Country:__Entity__"
                },
                "scale_factor": 1,
                "size": [
                  55,
                  55
                ],
                "styles": {},
                "type": "#4CAF50"
              },
              {
                "color": "#F44336",
                "id": 3,
                "label": "House Of Tudor",
                "position": [
                  0,
                  0
                ],
                "properties": {
                  "id": "House Of Tudor",
                  "label": "Royal house:__Entity__"
                },
                "scale_factor": 1,
                "size": [
                  55,
                  55
                ],
                "styles": {},
                "type": "#F44336"
              },
              {
                "color": "#2196F3",
                "id": 4,
                "label": "Henry Viii",
                "position": [
                  0,
                  0
                ],
                "properties": {
                  "id": "Henry Viii",
                  "label": "__Entity__:Person"
                },
                "scale_factor": 1,
                "size": [
                  55,
                  55
                ],
                "styles": {},
                "type": "#2196F3"
              },
              {
                "color": "#2196F3",
                "id": 5,
                "label": "Anne Boleyn",
                "position": [
                  0,
                  0
                ],
                "properties": {
                  "id": "Anne Boleyn",
                  "label": "__Entity__:Person"
                },
                "scale_factor": 1,
                "size": [
                  55,
                  55
                ],
                "styles": {},
                "type": "#2196F3"
              },
              {
                "color": "#2196F3",
                "id": 6,
                "label": "Edward Vi",
                "position": [
                  0,
                  0
                ],
                "properties": {
                  "id": "Edward Vi",
                  "label": "__Entity__:Person"
                },
                "scale_factor": 1,
                "size": [
                  55,
                  55
                ],
                "styles": {},
                "type": "#2196F3"
              },
              {
                "color": "#2196F3",
                "id": 8,
                "label": "Mary",
                "position": [
                  0,
                  0
                ],
                "properties": {
                  "id": "Mary",
                  "label": "__Entity__:Person"
                },
                "scale_factor": 1,
                "size": [
                  55,
                  55
                ],
                "styles": {},
                "type": "#2196F3"
              },
              {
                "color": "#2196F3",
                "id": 9,
                "label": "James Vi Of Scotland",
                "position": [
                  0,
                  0
                ],
                "properties": {
                  "id": "James Vi Of Scotland",
                  "label": "__Entity__:Person"
                },
                "scale_factor": 1,
                "size": [
                  55,
                  55
                ],
                "styles": {},
                "type": "#2196F3"
              },
              {
                "color": "#2196F3",
                "id": 11,
                "label": "William Cecil",
                "position": [
                  0,
                  0
                ],
                "properties": {
                  "id": "William Cecil",
                  "label": "__Entity__:Person"
                },
                "scale_factor": 1,
                "size": [
                  55,
                  55
                ],
                "styles": {},
                "type": "#2196F3"
              },
              {
                "color": "#607D8B",
                "id": 14,
                "label": "English Protestant Church",
                "position": [
                  0,
                  0
                ],
                "properties": {
                  "id": "English Protestant Church",
                  "label": "__Entity__:Religion"
                },
                "scale_factor": 1,
                "size": [
                  55,
                  55
                ],
                "styles": {},
                "type": "#607D8B"
              },
              {
                "color": "#673AB7",
                "id": 13,
                "label": "Elizabethan Religious Settlement",
                "position": [
                  0,
                  0
                ],
                "properties": {
                  "id": "Elizabethan Religious Settlement",
                  "label": "__Entity__:Event"
                },
                "scale_factor": 1,
                "size": [
                  55,
                  55
                ],
                "styles": {},
                "type": "#673AB7"
              },
              {
                "color": "#607D8B",
                "id": 12,
                "label": "Church Of England",
                "position": [
                  0,
                  0
                ],
                "properties": {
                  "id": "Church Of England",
                  "label": "__Entity__:Religion"
                },
                "scale_factor": 1,
                "size": [
                  55,
                  55
                ],
                "styles": {},
                "type": "#607D8B"
              },
              {
                "color": "#CDDC39",
                "id": 15,
                "label": "Video Et Taceo",
                "position": [
                  0,
                  0
                ],
                "properties": {
                  "id": "Video Et Taceo",
                  "label": "__Entity__:Motto"
                },
                "scale_factor": 1,
                "size": [
                  55,
                  55
                ],
                "styles": {},
                "type": "#CDDC39"
              },
              {
                "color": "#2196F3",
                "id": 16,
                "label": "Sir Francis Walsingham",
                "position": [
                  0,
                  0
                ],
                "properties": {
                  "id": "Sir Francis Walsingham",
                  "label": "__Entity__:Person"
                },
                "scale_factor": 1,
                "size": [
                  55,
                  55
                ],
                "styles": {},
                "type": "#2196F3"
              },
              {
                "color": "#9E9E9E",
                "id": 63,
                "label": "Tudor England",
                "position": [
                  0,
                  0
                ],
                "properties": {
                  "id": "Tudor England",
                  "label": "Era:__Entity__"
                },
                "scale_factor": 1,
                "size": [
                  55,
                  55
                ],
                "styles": {},
                "type": "#9E9E9E"
              },
              {
                "color": "#9C27B0",
                "id": 64,
                "label": "Nicholas Hilliard",
                "position": [
                  0,
                  0
                ],
                "properties": {
                  "id": "Nicholas Hilliard",
                  "label": "__Entity__:Artist"
                },
                "scale_factor": 1,
                "size": [
                  55,
                  55
                ],
                "styles": {},
                "type": "#9C27B0"
              },
              {
                "color": "#9C27B0",
                "id": 67,
                "label": "Cornelis Ketel",
                "position": [
                  0,
                  0
                ],
                "properties": {
                  "id": "Cornelis Ketel",
                  "label": "__Entity__:Artist"
                },
                "scale_factor": 1,
                "size": [
                  55,
                  55
                ],
                "styles": {},
                "type": "#9C27B0"
              },
              {
                "color": "#9C27B0",
                "id": 68,
                "label": "Federico Zuccaro Or Zuccari",
                "position": [
                  0,
                  0
                ],
                "properties": {
                  "id": "Federico Zuccaro Or Zuccari",
                  "label": "__Entity__:Artist"
                },
                "scale_factor": 1,
                "size": [
                  55,
                  55
                ],
                "styles": {},
                "type": "#9C27B0"
              },
              {
                "color": "#9C27B0",
                "id": 69,
                "label": "Isaac Oliver",
                "position": [
                  0,
                  0
                ],
                "properties": {
                  "id": "Isaac Oliver",
                  "label": "__Entity__:Artist"
                },
                "scale_factor": 1,
                "size": [
                  55,
                  55
                ],
                "styles": {},
                "type": "#9C27B0"
              },
              {
                "color": "#9C27B0",
                "id": 70,
                "label": "Marcus Gheeraerts The Younger",
                "position": [
                  0,
                  0
                ],
                "properties": {
                  "id": "Marcus Gheeraerts The Younger",
                  "label": "__Entity__:Artist"
                },
                "scale_factor": 1,
                "size": [
                  55,
                  55
                ],
                "styles": {},
                "type": "#9C27B0"
              },
              {
                "color": "#2196F3",
                "id": 80,
                "label": "Gifts",
                "position": [
                  0,
                  0
                ],
                "properties": {
                  "id": "Gifts",
                  "label": "__Entity__:Action"
                },
                "scale_factor": 1,
                "size": [
                  55,
                  55
                ],
                "styles": {},
                "type": "#2196F3"
              },
              {
                "color": "#4CAF50",
                "id": 81,
                "label": "Suitors",
                "position": [
                  0,
                  0
                ],
                "properties": {
                  "id": "Suitors",
                  "label": "Person group:__Entity__"
                },
                "scale_factor": 1,
                "size": [
                  55,
                  55
                ],
                "styles": {},
                "type": "#4CAF50"
              },
              {
                "color": "#F44336",
                "id": 86,
                "label": "Crown",
                "position": [
                  0,
                  0
                ],
                "properties": {
                  "id": "Crown",
                  "label": "__Entity__:Symbol"
                },
                "scale_factor": 1,
                "size": [
                  55,
                  55
                ],
                "styles": {},
                "type": "#F44336"
              },
              {
                "color": "#2196F3",
                "id": 7,
                "label": "Lady Jane Grey",
                "position": [
                  0,
                  0
                ],
                "properties": {
                  "id": "Lady Jane Grey",
                  "label": "__Entity__:Person"
                },
                "scale_factor": 1,
                "size": [
                  55,
                  55
                ],
                "styles": {},
                "type": "#2196F3"
              },
              {
                "color": "#2196F3",
                "id": 10,
                "label": "Mary, Queen Of Scots",
                "position": [
                  0,
                  0
                ],
                "properties": {
                  "id": "Mary, Queen Of Scots",
                  "label": "__Entity__:Person"
                },
                "scale_factor": 1,
                "size": [
                  55,
                  55
                ],
                "styles": {},
                "type": "#2196F3"
              },
              {
                "color": "#2196F3",
                "id": 17,
                "label": "Pope",
                "position": [
                  0,
                  0
                ],
                "properties": {
                  "id": "Pope",
                  "label": "__Entity__:Person"
                },
                "scale_factor": 1,
                "size": [
                  55,
                  55
                ],
                "styles": {},
                "type": "#2196F3"
              },
              {
                "color": "#4CAF50",
                "id": 18,
                "label": "France",
                "position": [
                  0,
                  0
                ],
                "properties": {
                  "id": "France",
                  "label": "Country:__Entity__"
                },
                "scale_factor": 1,
                "size": [
                  55,
                  55
                ],
                "styles": {},
                "type": "#4CAF50"
              },
              {
                "color": "#2196F3",
                "id": 20,
                "label": "Elizabeth",
                "position": [
                  0,
                  0
                ],
                "properties": {
                  "id": "Elizabeth",
                  "label": "__Entity__:Person"
                },
                "scale_factor": 1,
                "size": [
                  55,
                  55
                ],
                "styles": {},
                "type": "#2196F3"
              },
              {
                "color": "#2196F3",
                "id": 22,
                "label": "Henry Viii Of England",
                "position": [
                  0,
                  0
                ],
                "properties": {
                  "id": "Henry Viii Of England",
                  "label": "__Entity__:Person"
                },
                "scale_factor": 1,
                "size": [
                  55,
                  55
                ],
                "styles": {},
                "type": "#2196F3"
              },
              {
                "color": "#607D8B",
                "id": 21,
                "label": "Greenwich Palace",
                "position": [
                  0,
                  0
                ],
                "properties": {
                  "id": "Greenwich Palace",
                  "label": "__Entity__:Location"
                },
                "scale_factor": 1,
                "size": [
                  55,
                  55
                ],
                "styles": {},
                "type": "#607D8B"
              },
              {
                "color": "#2196F3",
                "id": 23,
                "label": "Elizabeth Of York",
                "position": [
                  0,
                  0
                ],
                "properties": {
                  "id": "Elizabeth Of York",
                  "label": "__Entity__:Person"
                },
                "scale_factor": 1,
                "size": [
                  55,
                  55
                ],
                "styles": {},
                "type": "#2196F3"
              },
              {
                "color": "#2196F3",
                "id": 24,
                "label": "Lady Elizabeth Howard",
                "position": [
                  0,
                  0
                ],
                "properties": {
                  "id": "Lady Elizabeth Howard",
                  "label": "__Entity__:Person"
                },
                "scale_factor": 1,
                "size": [
                  55,
                  55
                ],
                "styles": {},
                "type": "#2196F3"
              },
              {
                "color": "#673AB7",
                "id": 91,
                "label": "Elizabethan Artists",
                "position": [
                  0,
                  0
                ],
                "properties": {
                  "id": "Elizabethan Artists",
                  "label": "__Entity__:Group"
                },
                "scale_factor": 1,
                "size": [
                  55,
                  55
                ],
                "styles": {},
                "type": "#673AB7"
              },
              {
                "color": "#607D8B",
                "id": 25,
                "label": "England",
                "position": [
                  0,
                  0
                ],
                "properties": {
                  "id": "England",
                  "label": "__Entity__:Location"
                },
                "scale_factor": 1,
                "size": [
                  55,
                  55
                ],
                "styles": {},
                "type": "#607D8B"
              },
              {
                "color": "#2196F3",
                "id": 27,
                "label": "Elizabeth_Petrovna",
                "position": [
                  0,
                  0
                ],
                "properties": {
                  "id": "Elizabeth_Petrovna",
                  "label": "__Entity__:Person"
                },
                "scale_factor": 1,
                "size": [
                  55,
                  55
                ],
                "styles": {},
                "type": "#2196F3"
              },
              {
                "color": "#2196F3",
                "id": 28,
                "label": "Peter_The_Great",
                "position": [
                  0,
                  0
                ],
                "properties": {
                  "id": "Peter_The_Great",
                  "label": "__Entity__:Person"
                },
                "scale_factor": 1,
                "size": [
                  55,
                  55
                ],
                "styles": {},
                "type": "#2196F3"
              },
              {
                "color": "#2196F3",
                "id": 29,
                "label": "Catherine_I_Of_Russia",
                "position": [
                  0,
                  0
                ],
                "properties": {
                  "id": "Catherine_I_Of_Russia",
                  "label": "__Entity__:Person"
                },
                "scale_factor": 1,
                "size": [
                  55,
                  55
                ],
                "styles": {},
                "type": "#2196F3"
              },
              {
                "color": "#2196F3",
                "id": 30,
                "label": "Peter_Ii",
                "position": [
                  0,
                  0
                ],
                "properties": {
                  "id": "Peter_Ii",
                  "label": "__Entity__:Person"
                },
                "scale_factor": 1,
                "size": [
                  55,
                  55
                ],
                "styles": {},
                "type": "#2196F3"
              },
              {
                "color": "#2196F3",
                "id": 31,
                "label": "Anna",
                "position": [
                  0,
                  0
                ],
                "properties": {
                  "id": "Anna",
                  "label": "__Entity__:Person"
                },
                "scale_factor": 1,
                "size": [
                  55,
                  55
                ],
                "styles": {},
                "type": "#2196F3"
              },
              {
                "color": "#2196F3",
                "id": 32,
                "label": "Ivan_Vi",
                "position": [
                  0,
                  0
                ],
                "properties": {
                  "id": "Ivan_Vi",
                  "label": "__Entity__:Person"
                },
                "scale_factor": 1,
                "size": [
                  55,
                  55
                ],
                "styles": {},
                "type": "#2196F3"
              },
              {
                "color": "#2196F3",
                "id": 33,
                "label": "Peter_Iii",
                "position": [
                  0,
                  0
                ],
                "properties": {
                  "id": "Peter_Iii",
                  "label": "__Entity__:Person"
                },
                "scale_factor": 1,
                "size": [
                  55,
                  55
                ],
                "styles": {},
                "type": "#2196F3"
              },
              {
                "color": "#4CAF50",
                "id": 40,
                "label": "Russia",
                "position": [
                  0,
                  0
                ],
                "properties": {
                  "id": "Russia",
                  "label": "Country:__Entity__"
                },
                "scale_factor": 1,
                "size": [
                  55,
                  55
                ],
                "styles": {},
                "type": "#4CAF50"
              },
              {
                "color": "#2196F3",
                "id": 34,
                "label": "Mikhail_Lomonosov",
                "position": [
                  0,
                  0
                ],
                "properties": {
                  "id": "Mikhail_Lomonosov",
                  "label": "__Entity__:Person"
                },
                "scale_factor": 1,
                "size": [
                  55,
                  55
                ],
                "styles": {},
                "type": "#2196F3"
              },
              {
                "color": "#2196F3",
                "id": 37,
                "label": "Ivan_Shuvalov",
                "position": [
                  0,
                  0
                ],
                "properties": {
                  "id": "Ivan_Shuvalov",
                  "label": "__Entity__:Person"
                },
                "scale_factor": 1,
                "size": [
                  55,
                  55
                ],
                "styles": {},
                "type": "#2196F3"
              },
              {
                "color": "#CDDC39",
                "id": 47,
                "label": "University_Of_Moscow",
                "position": [
                  0,
                  0
                ],
                "properties": {
                  "id": "University_Of_Moscow",
                  "label": "__Entity__"
                },
                "scale_factor": 1,
                "size": [
                  55,
                  55
                ],
                "styles": {},
                "type": "#CDDC39"
              },
              {
                "color": "#CDDC39",
                "id": 48,
                "label": "Imperial_Academy_Of_Arts",
                "position": [
                  0,
                  0
                ],
                "properties": {
                  "id": "Imperial_Academy_Of_Arts",
                  "label": "__Entity__"
                },
                "scale_factor": 1,
                "size": [
                  55,
                  55
                ],
                "styles": {},
                "type": "#CDDC39"
              },
              {
                "color": "#2196F3",
                "id": 36,
                "label": "Bartolomeo_Rastrelli",
                "position": [
                  0,
                  0
                ],
                "properties": {
                  "id": "Bartolomeo_Rastrelli",
                  "label": "__Entity__:Person"
                },
                "scale_factor": 1,
                "size": [
                  55,
                  55
                ],
                "styles": {},
                "type": "#2196F3"
              },
              {
                "color": "#9E9E9E",
                "id": 44,
                "label": "Winter_Palace",
                "position": [
                  0,
                  0
                ],
                "properties": {
                  "id": "Winter_Palace",
                  "label": "Building:__Entity__"
                },
                "scale_factor": 1,
                "size": [
                  55,
                  55
                ],
                "styles": {},
                "type": "#9E9E9E"
              },
              {
                "color": "#9E9E9E",
                "id": 45,
                "label": "Smolny_Cathedral",
                "position": [
                  0,
                  0
                ],
                "properties": {
                  "id": "Smolny_Cathedral",
                  "label": "Building:__Entity__"
                },
                "scale_factor": 1,
                "size": [
                  55,
                  55
                ],
                "styles": {},
                "type": "#9E9E9E"
              },
              {
                "color": "#9E9E9E",
                "id": 46,
                "label": "Peterhof_Palace",
                "position": [
                  0,
                  0
                ],
                "properties": {
                  "id": "Peterhof_Palace",
                  "label": "Building:__Entity__"
                },
                "scale_factor": 1,
                "size": [
                  55,
                  55
                ],
                "styles": {},
                "type": "#9E9E9E"
              },
              {
                "color": "#9C27B0",
                "id": 38,
                "label": "War_Of_Austrian_Succession",
                "position": [
                  0,
                  0
                ],
                "properties": {
                  "id": "War_Of_Austrian_Succession",
                  "label": "Conflict:__Entity__"
                },
                "scale_factor": 1,
                "size": [
                  55,
                  55
                ],
                "styles": {},
                "type": "#9C27B0"
              },
              {
                "color": "#9C27B0",
                "id": 39,
                "label": "Seven_Years_War",
                "position": [
                  0,
                  0
                ],
                "properties": {
                  "id": "Seven_Years_War",
                  "label": "Conflict:__Entity__"
                },
                "scale_factor": 1,
                "size": [
                  55,
                  55
                ],
                "styles": {},
                "type": "#9C27B0"
              }
            ],
            "_overview": {
              "enabled": null,
              "overview_set": false
            },
            "_selected_graph": [
              [],
              []
            ],
            "_sidebar": {
              "enabled": false,
              "start_with": null
            },
            "_view_count": null,
            "_view_module": "yfiles-jupyter-graphs",
            "_view_module_version": "^1.10.1",
            "_view_name": "GraphView",
            "layout": "IPY_MODEL_bb55a4cbc1f84e13be112f1fa4fb35f9",
            "tabbable": null,
            "tooltip": null
          }
        },
        "bb55a4cbc1f84e13be112f1fa4fb35f9": {
          "model_module": "@jupyter-widgets/base",
          "model_module_version": "2.0.0",
          "model_name": "LayoutModel",
          "state": {
            "_model_module": "@jupyter-widgets/base",
            "_model_module_version": "2.0.0",
            "_model_name": "LayoutModel",
            "_view_count": null,
            "_view_module": "@jupyter-widgets/base",
            "_view_module_version": "2.0.0",
            "_view_name": "LayoutView",
            "align_content": null,
            "align_items": null,
            "align_self": null,
            "border_bottom": null,
            "border_left": null,
            "border_right": null,
            "border_top": null,
            "bottom": null,
            "display": null,
            "flex": null,
            "flex_flow": null,
            "grid_area": null,
            "grid_auto_columns": null,
            "grid_auto_flow": null,
            "grid_auto_rows": null,
            "grid_column": null,
            "grid_gap": null,
            "grid_row": null,
            "grid_template_areas": null,
            "grid_template_columns": null,
            "grid_template_rows": null,
            "height": "800px",
            "justify_content": null,
            "justify_items": null,
            "left": null,
            "margin": null,
            "max_height": null,
            "max_width": null,
            "min_height": null,
            "min_width": null,
            "object_fit": null,
            "object_position": null,
            "order": null,
            "overflow": null,
            "padding": null,
            "right": null,
            "top": null,
            "visibility": null,
            "width": "100%"
          }
        }
      }
    }
  },
  "nbformat": 4,
  "nbformat_minor": 0
}
