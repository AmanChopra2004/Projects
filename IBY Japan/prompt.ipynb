{
 "cells": [
  {
   "cell_type": "markdown",
   "id": "7cbce4cd-fb1d-41cc-89ed-44b65f9bd97d",
   "metadata": {},
   "source": [
    "## <b>Prompt Engineering</b>"
   ]
  },
  {
   "cell_type": "markdown",
   "id": "1be3e8e9-f23f-4d7d-92e2-8d91562de195",
   "metadata": {},
   "source": [
    "<i>please see the prompt Engineering Documentation(.docs) for process and results</i>"
   ]
  },
  {
   "cell_type": "markdown",
   "id": "57c44153-bbf6-42a7-9fd1-1e15118272e0",
   "metadata": {},
   "source": [
    "## Importing libraries\n",
    "___"
   ]
  },
  {
   "cell_type": "code",
   "execution_count": 1,
   "id": "008aa252-b88e-4b88-996e-b38952259fe4",
   "metadata": {},
   "outputs": [],
   "source": [
    "import pandas as pd\n",
    "import numpy as np\n"
   ]
  },
  {
   "cell_type": "markdown",
   "id": "70b74211-b6c9-44bb-b574-2d6e58e54475",
   "metadata": {},
   "source": [
    "### \"i\" represents i th candidate "
   ]
  },
  {
   "cell_type": "code",
   "execution_count": 83,
   "id": "f44dd24d-d30e-4ac7-a2c3-254c6d3807ef",
   "metadata": {},
   "outputs": [],
   "source": [
    "i=10"
   ]
  },
  {
   "cell_type": "markdown",
   "id": "49eb0722-1917-4b6d-af11-a3f51ab72547",
   "metadata": {},
   "source": [
    "## Loading dataframes\n",
    "___"
   ]
  },
  {
   "cell_type": "code",
   "execution_count": 84,
   "id": "805d707d-a63b-4abb-83c1-54dc3a8dc0ae",
   "metadata": {},
   "outputs": [],
   "source": [
    "emotion_df=pd.read_csv(f\"./emotion_data/{i}/emotion{i}.csv\")\n",
    "emotion_df=emotion_df.drop(\"image_seq\",axis=1)\n",
    "gaze_df=pd.read_csv(f\"./emotion_data/{i}/gaze{i}.csv\")"
   ]
  },
  {
   "cell_type": "code",
   "execution_count": 85,
   "id": "eba2c422-4feb-4c7f-bc3e-b686b76840cd",
   "metadata": {},
   "outputs": [],
   "source": [
    "with open(f\"transcripts/{i}.txt\", \"r\") as file:\n",
    "    speech = file.read()\n",
    "transcript=pd.read_csv(f\"transcript_data/{i}.csv\")"
   ]
  },
  {
   "cell_type": "markdown",
   "id": "e74f145b-b2fb-455b-9ac5-07920c03a1a3",
   "metadata": {},
   "source": [
    "## Defining Prompt auxillaries\n",
    "___"
   ]
  },
  {
   "cell_type": "code",
   "execution_count": 86,
   "id": "f5875c2b-24b5-4279-a395-de666fa24afe",
   "metadata": {},
   "outputs": [],
   "source": [
    "all=emotion_df.describe().iloc[1]\n",
    "top_three_indices = np.argsort(all)[-3:][::-1]\n",
    "top_three_emo = all.index[top_three_indices]"
   ]
  },
  {
   "cell_type": "code",
   "execution_count": 87,
   "id": "1278c8aa-e899-4ce8-ba4e-c6506d35e50c",
   "metadata": {},
   "outputs": [],
   "source": [
    "emo_1=top_three_emo[0]\n",
    "emo_2=top_three_emo[1]\n",
    "emo_3=top_three_emo[2]"
   ]
  },
  {
   "cell_type": "code",
   "execution_count": 88,
   "id": "6601c233-b8d7-4a8f-b6a9-38584922443d",
   "metadata": {},
   "outputs": [],
   "source": [
    "gaze=gaze_df[\"gaze\"].mean()\n",
    "blink=gaze_df[\"blink\"].sum()\n",
    "eye_offset=gaze_df[\"eye_offset\"].mean()"
   ]
  },
  {
   "cell_type": "code",
   "execution_count": 89,
   "id": "f1d45dbf-d53a-4c0b-9ff1-0932ec88ec86",
   "metadata": {},
   "outputs": [],
   "source": [
    "positive=transcript[\"positive\"].mean()\n",
    "negative=transcript[\"negative\"].mean()\n",
    "confident=transcript[\"confident\"].mean()\n",
    "hesitant=transcript[\"hesitant\"].mean()\n",
    "concise=transcript[\"concise\"].mean()\n",
    "enthusiastic=transcript[\"enthusiastic\"].mean()\n",
    "speed=transcript[\"speech_speed\"].mean()\n",
    "id=transcript[\"id\"]"
   ]
  },
  {
   "cell_type": "markdown",
   "id": "e4221a25-4052-4332-bb80-83d9e33f2289",
   "metadata": {},
   "source": [
    "## The Prompt\n",
    "___"
   ]
  },
  {
   "cell_type": "markdown",
   "id": "8e336683-4a2f-423e-983d-f06a67bdafe7",
   "metadata": {},
   "source": []
  },
  {
   "cell_type": "code",
   "execution_count": 90,
   "id": "2089466b-2ed7-45d3-a61c-6ab8e648d0f9",
   "metadata": {},
   "outputs": [],
   "source": [
    "prompt = f\"\"\"\n",
    "As an HR hiring manager, you are evaluating a candidate based on data extracted from their introductory video. Your task is to provide \n",
    "three scores: an emotion score, a text score, and a combined weighted score. However, you should give a higher weight to the text data (60%) \n",
    "compared to the emotion data (40%) for the final evaluation. Based on these scores, you will decide whether to recommend hiring the candidate or not, \n",
    "supported by reasoning from the provided data.\n",
    "\n",
    "Below is the candidate's data:\n",
    "\n",
    "**Emotion Data:**\n",
    "- Top three emotions exhibited throughout the video: {emo_1}, {emo_2}, {emo_3}\n",
    "- Percentage of time the candidate maintained eye contact with the camera: {gaze*100}%\n",
    "- Number of times the candidate blinked during the video: {blink}\n",
    "- Average eye offset angle from the screen (degrees): {eye_offset}\n",
    "\n",
    "**Text Data:**\n",
    "- Transcript of the video: {speech}\n",
    "- Average positive speech score: {positive}\n",
    "- Average negative speech score: {negative}\n",
    "- Average confidence score: {confident}\n",
    "- Average hesitation score: {hesitant}\n",
    "- Conciseness of responses score: {concise}\n",
    "- Enthusiasm level score: {enthusiastic}\n",
    "- Average speed of speech (words per second): {speed}\n",
    "\n",
    "Your response should include:\n",
    "1. **Emotion Score** (40% weight): An evaluation of the candidate’s emotional engagement based on the above data.\n",
    "2. **Text Score** (60% weight): An assessment of the candidate’s speech content, delivery, and style, with a stronger emphasis on the transcript data.\n",
    "3. **Combined Weighted Score**: A final score that combines emotion and text evaluations, with the text score weighted more heavily (60%).\n",
    "\n",
    "Finally, **state whether you would hire the candidate or not**, giving clear reasons based on the scores and data provided.\n",
    "\n",
    "**Do not answer with \"I don't know\" or \"Here is the unified response.\"**\n",
    "\"\"\"\n"
   ]
  },
  {
   "cell_type": "code",
   "execution_count": 91,
   "id": "f00479bd-cd57-42ab-92de-59e5480b90c5",
   "metadata": {},
   "outputs": [
    {
     "name": "stdout",
     "output_type": "stream",
     "text": [
      "\n",
      "As an HR hiring manager, you are evaluating a candidate based on data extracted from their introductory video. Your task is to provide \n",
      "three scores: an emotion score, a text score, and a combined weighted score. However, you should give a higher weight to the text data (60%) \n",
      "compared to the emotion data (40%) for the final evaluation. Based on these scores, you will decide whether to recommend hiring the candidate or not, \n",
      "supported by reasoning from the provided data.\n",
      "\n",
      "Below is the candidate's data:\n",
      "\n",
      "**Emotion Data:**\n",
      "- Top three emotions exhibited throughout the video: fear, sad, neutral\n",
      "- Percentage of time the candidate maintained eye contact with the camera: 73.33333333333333%\n",
      "- Number of times the candidate blinked during the video: 15\n",
      "- Average eye offset angle from the screen (degrees): 11.49859\n",
      "\n",
      "**Text Data:**\n",
      "- Transcript of the video:  My name is Michael Ramos, I am from Patna, Bihar. I have done my schooling in Commerce and then  I went up to do my graduation in B.Com Honours. I have interned as an Accounting Associate  as well as a Tax Associate wherein I got the chance to apply all the knowledge that I had  learned in my B.Com to apply them in real life scenario. Apart from Academics, I have  been involved in a lot of extracurricular activities. I was the captain of the students  committee in my final school year and was also awarded the Best Student Award at the  end of the year. When I went up to college, I was the class representative which again  is the part of the students committee. Apart from that, I have been a part of Bad Scouts  and Guide for more than 5 years where I have completed several treks and was part of a  lot of activities that were based for social needs and for social cause. In my free time,  I like to read both fiction and non-fiction based on if I am feeling creative that day  or if I want to gain some info. The short term goal for me is to find a job where I  can apply the skill set and the knowledge that I have gained so far and build new skills  alongside. Whereas in the long term, I look for a role wherein I will be able to create  value. I look for bigger targets so that I can test myself. I need to figure myself during  the preliminary years so that when the superior targets are put, I am able to come up with  the best outcomes.\n",
      "- Average positive speech score: 0.5892669001922888\n",
      "- Average negative speech score: 0.22094799068701618\n",
      "- Average confidence score: 0.6198522983228459\n",
      "- Average hesitation score: 0.5206366580198792\n",
      "- Conciseness of responses score: 0.3856552571934812\n",
      "- Enthusiasm level score: 0.32550737656214657\n",
      "- Average speed of speech (words per second): 3.2485176794320747\n",
      "\n",
      "Your response should include:\n",
      "1. **Emotion Score** (40% weight): An evaluation of the candidate’s emotional engagement based on the above data.\n",
      "2. **Text Score** (60% weight): An assessment of the candidate’s speech content, delivery, and style, with a stronger emphasis on the transcript data.\n",
      "3. **Combined Weighted Score**: A final score that combines emotion and text evaluations, with the text score weighted more heavily (60%).\n",
      "\n",
      "Finally, **state whether you would hire the candidate or not**, giving clear reasons based on the scores and data provided.\n",
      "\n",
      "**Do not answer with \"I don't know\" or \"Here is the unified response.\"**\n",
      "\n"
     ]
    }
   ],
   "source": [
    "print(prompt)"
   ]
  },
  {
   "cell_type": "code",
   "execution_count": null,
   "id": "27ab1cc8-e247-4595-9ca4-188ab08520d6",
   "metadata": {},
   "outputs": [],
   "source": []
  }
 ],
 "metadata": {
  "kernelspec": {
   "display_name": "Python 3 (ipykernel)",
   "language": "python",
   "name": "python3"
  },
  "language_info": {
   "codemirror_mode": {
    "name": "ipython",
    "version": 3
   },
   "file_extension": ".py",
   "mimetype": "text/x-python",
   "name": "python",
   "nbconvert_exporter": "python",
   "pygments_lexer": "ipython3",
   "version": "3.11.1"
  }
 },
 "nbformat": 4,
 "nbformat_minor": 5
}
